{
 "cells": [
  {
   "cell_type": "code",
   "execution_count": 101,
   "metadata": {
    "collapsed": true
   },
   "outputs": [],
   "source": [
    "### This will attempt to run randomise on LARGE data sets..\n",
    "# coding: utf-8\n",
    "import nipype.pipeline.engine as pe\n",
    "import nipype.interfaces.utility as niu\n",
    "import nipype.interfaces.fsl as fsl\n",
    "import os\n",
    "import nibabel as nib\n",
    "import scipy\n",
    "import numpy as np\n",
    "from scipy.sparse import coo_matrix\n",
    "from numpy import genfromtxt\n"
   ]
  },
  {
   "cell_type": "code",
   "execution_count": 75,
   "metadata": {
    "collapsed": false
   },
   "outputs": [],
   "source": [
    "## Coordinate encoded sparse matrix...\n",
    "sampleDotFile = '/EHECHT_BIGDATA/POST_MORTEM_FOXES/WholeBrainMatrixConnectivity_downsample_4/Fox_C_fdt_matrix3_downsample_4.dot'\n",
    "my_data = genfromtxt(sampleDotFile, delimiter='  ')"
   ]
  },
  {
   "cell_type": "code",
   "execution_count": 79,
   "metadata": {
    "collapsed": false
   },
   "outputs": [
    {
     "data": {
      "text/plain": [
       "array([ 103.,  114.,  679.])"
      ]
     },
     "execution_count": 79,
     "metadata": {},
     "output_type": "execute_result"
    }
   ],
   "source": [
    "my_data[999]  ## numpy is y,x  or row by column"
   ]
  },
  {
   "cell_type": "code",
   "execution_count": 80,
   "metadata": {
    "collapsed": false
   },
   "outputs": [
    {
     "name": "stdout",
     "output_type": "stream",
     "text": [
      "5263 5263 (706568, 3) (1, 27709696)\n"
     ]
    }
   ],
   "source": [
    "## Lets look at ths slice\n",
    "x_array = my_data[:,0]\n",
    "y_array = my_data[:,1]\n",
    "c_array = my_data[:,2]   ## Connectivity strength matrix\n",
    "\n",
    "### The indexing.. is the death of me\n",
    "\n",
    "width=  int(x_array.max())  ## So the max value in the array is 5263 for both X and Y\n",
    "height = int(y_array.max())\n",
    "\n",
    "indexArray = y_array * (width+1) + x_array\n",
    "indexArray = indexArray.astype(int)\n",
    "\n",
    "a = np.zeros( (1,   (width+1) * (height+1) ))\n",
    "### The array needs to be able to actually ACCEPT a value that is say 5023,, so the array needs to be 1 larger..\n",
    "\n",
    "print width,height,my_data.shape,a.shape\n",
    "\n",
    "a[0,indexArray] = c_array\n",
    "\n",
    "a = np.reshape(a, (height+1, width+1))"
   ]
  },
  {
   "cell_type": "code",
   "execution_count": 105,
   "metadata": {
    "collapsed": false
   },
   "outputs": [
    {
     "name": "stdout",
     "output_type": "stream",
     "text": [
      "(5264, 5264)\n",
      "(5264, 5264, 1)\n"
     ]
    }
   ],
   "source": [
    "curMatrixShape = a.shape\n",
    "\n",
    "print curMatrixShape\n",
    "\n",
    "niiMatrix = np.zeros((curMatrixShape[0],curMatrixShape[1],1))  ## make this into a 3-D Matrix\n",
    "print niiMatrix.shape\n",
    "\n",
    "\n",
    "myNiiImg = nib.Nifti1Image(niiMatrix, np.eye(4))\n",
    "\n",
    "# np.eye(4)\n",
    "# niiMatrix[:,:,0] = a\n",
    "# nibabel.save(niiMatrix,'testMyNII.nii.gz')\n",
    "myNiiImg.to_filename('testMyNii.nii.gz')"
   ]
  },
  {
   "cell_type": "code",
   "execution_count": null,
   "metadata": {
    "collapsed": false
   },
   "outputs": [],
   "source": [
    "myArray = my_data\n",
    "xy_array = myArray[:, :2]\n",
    "v_array = myArray[:, 2]\n",
    "\n",
    "### need to compute maxX, maxY\n",
    "# calculate the linear  index of this i*whatever + j\n",
    "\n",
    "a = np.zeroes( ())"
   ]
  },
  {
   "cell_type": "code",
   "execution_count": 88,
   "metadata": {
    "collapsed": false
   },
   "outputs": [
    {
     "name": "stdout",
     "output_type": "stream",
     "text": [
      "2\n",
      "2\n",
      "2\n",
      "2\n",
      "7\n",
      "47\n"
     ]
    }
   ],
   "source": [
    "import primefac\n",
    "for x in primefac.primefac(5264):\n",
    "    print x\n",
    "\n",
    "## Split by the biggest factor of two that will factor this matrix?/\n",
    "# 2\n",
    "# 2\n",
    "# 2\n",
    "# 2\n",
    "# 7\n",
    "# 47"
   ]
  },
  {
   "cell_type": "code",
   "execution_count": null,
   "metadata": {
    "collapsed": true
   },
   "outputs": [],
   "source": [
    "### Input Data Sets consist of .dot files which we need to eventually convert into nifti files\n",
    "# M is the \"real\" data with size 5263x5263\n",
    "\n",
    "# Z=M*0; % creates 5263x5263 matrix of zeros\n",
    "\n",
    "# N=cat(3,M,Z); % concatenate M and Z in the 3rd dimension\n",
    "\n",
    "\n",
    "# > in matlab\n",
    "# >\n",
    "# > x=load('fdt_matrix3.dot');\n",
    "# > M=full(spconvert(x));\n",
    "# >\n",
    "# > % reshape matrix into 3 dimensions - need to do math to find factors\n",
    "# > B=reshape(M,64,529,17161);\n",
    "# >\n",
    "# > % need this toolbox -\n",
    "# > https://www.mathworks.com/matlabcentral/fileexchange/8797-tools-for-nifti-and-analyze-image?focused=3806902&tab=function\n",
    "# >\n",
    "# > save('connectivity_matrix_nothr_reshape3d.mat','B','-v7.3');\n",
    "# > nii=make_nii(B);\n",
    "# > save_nii(nii,'connectivity_matrix_nothr_reshape3d.nii');\n"
   ]
  }
 ],
 "metadata": {
  "kernelspec": {
   "display_name": "Python 2",
   "language": "python",
   "name": "python2"
  },
  "language_info": {
   "codemirror_mode": {
    "name": "ipython",
    "version": 2
   },
   "file_extension": ".py",
   "mimetype": "text/x-python",
   "name": "python",
   "nbconvert_exporter": "python",
   "pygments_lexer": "ipython2",
   "version": "2.7.14"
  }
 },
 "nbformat": 4,
 "nbformat_minor": 2
}
