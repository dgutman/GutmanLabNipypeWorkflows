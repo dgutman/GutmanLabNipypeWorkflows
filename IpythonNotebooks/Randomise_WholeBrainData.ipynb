{
 "cells": [
  {
   "cell_type": "code",
   "execution_count": 1,
   "metadata": {},
   "outputs": [],
   "source": [
    "\n",
    "### This will attempt to run randomise on LARGE data sets..\n",
    "# coding: utf-8\n",
    "import nipype.pipeline.engine as pe\n",
    "import nipype.interfaces.utility as niu\n",
    "import nipype.interfaces.fsl as fsl\n",
    "import os\n",
    "import nibabel as nib\n",
    "import scipy\n",
    "import numpy as np\n",
    "import glob\n",
    "from scipy.sparse import coo_matrix\n",
    "from numpy import genfromtxt\n",
    "import PIL.Image\n",
    "from cStringIO import StringIO\n",
    "import IPython.display\n",
    "import numpy as np\n",
    "import matplotlib.pyplot as plt\n",
    "from ipywidgets import interact, fixed, widgets\n",
    "\n",
    "%matplotlib inline"
   ]
  },
  {
   "cell_type": "code",
   "execution_count": null,
   "metadata": {},
   "outputs": [],
   "source": [
    "## Coordinate encoded sparse matrix...\n",
    "\n",
    "#my_data[999]  ## numpy is y,x  or row by column\n",
    "\n",
    "# ## CREATING A MASK\n",
    "# mask A, B, C, D E and F\n",
    "# most efficient way to get all NON ZERO's across all matrixes'\n",
    "# Synthetic data sets--  want to have subject in one group and put in the UPPER LEFT CORNER\n",
    "# BOTTOM RIGHT CORNER vs TOP LEFT CORNER\n",
    "# display arrays in python larger than 4 x 4\n",
    "# DO it very small"
   ]
  },
  {
   "cell_type": "code",
   "execution_count": 2,
   "metadata": {},
   "outputs": [],
   "source": [
    "sampleDotFile = '/home/dagutman/data/WholeBrainMatrixConnectivity_downsample_4/Fox_C_fdt_matrix3_downsample_4.dot'\n",
    "sparseCoordData = genfromtxt(sampleDotFile, delimiter='  ')"
   ]
  },
  {
   "cell_type": "code",
   "execution_count": 3,
   "metadata": {},
   "outputs": [
    {
     "name": "stdout",
     "output_type": "stream",
     "text": [
      "(706568, 3)\n"
     ]
    }
   ],
   "source": [
    "print sparseCoordData.shape\n",
    "\n",
    "my_data = sparseCoordData\n",
    "x_array = my_data[:,0]\n",
    "y_array = my_data[:,1]\n",
    "c_array = my_data[:,2]  \n",
    "\n",
    "width=  int(x_array.max())  ## Must remember numpy is y,x not x,y\n",
    "height = int(y_array.max())\n",
    "\n",
    "## Coordinates are 1 indexed from the original file, but the created matrix is\n",
    "## 0 indexed, so need to adjust accordingly\n",
    "indexArray = y_array * (width+1) + x_array\n",
    "indexArray = indexArray.astype(int)\n",
    "\n",
    "# Create a placeholder array in the proper shape to hold the unsparsed data matrix\n",
    "a = np.zeros( (1,   (width+1) * (height+1) ))\n",
    "\n",
    "### Copy the connectivity numbers in a single operation using a linearly indexed Array\n",
    "a[0,indexArray] = c_array\n",
    "\n",
    "## Now reshape the array into height, width  since numpy is y,x ordered\n",
    "a = np.reshape(a, (height+1, width+1))\n"
   ]
  },
  {
   "cell_type": "code",
   "execution_count": 4,
   "metadata": {},
   "outputs": [
    {
     "name": "stdout",
     "output_type": "stream",
     "text": [
      "(16, 329)\n"
     ]
    },
    {
     "data": {
      "image/png": "[encoded data removed]",
      "text/plain": [
       "<matplotlib.figure.Figure at 0x7f5632ded9d0>"
      ]
     },
     "metadata": {},
     "output_type": "display_data"
    }
   ],
   "source": [
    "a[19,:].shape  ## this is currently a 1D array\n",
    "b = np.reshape(a[19,:],(16,329))\n",
    "# def showarray(a, fmt='png'):\n",
    "#     a = np.int16(a)\n",
    "#     ## was uint\n",
    "#     f = StringIO()\n",
    "#     PIL.Image.fromarray(a).save(f, fmt)\n",
    "#     IPython.display.display(IPython.display.Image(data=f.getvalue()))\n",
    "print b.shape\n",
    "# showarray(b)\n",
    "plt.plot(b)\n",
    "plt.show()"
   ]
  },
  {
   "cell_type": "code",
   "execution_count": 5,
   "metadata": {},
   "outputs": [],
   "source": [
    "def convertDotFileToNifti( dotFileIn, NIIout, reShapeByPofTwo=False, debug=False):\n",
    "    ### Eventually instead of outputting a linear gigantic X,Y matric I am going to reshape\n",
    "    ### it and take advantage of the z Plane\n",
    "    ## This is a sparsely encoded matrix of X by Y by Connectivity generated by probtrackX\n",
    "    sparseCoordData = genfromtxt(sampleDotFile, delimiter='  ')\n",
    "    \n",
    "    ## Split out the X, Y and C values from the dot file\n",
    "    x_array = sparseCoordData[:,0]\n",
    "    y_array = sparseCoordData[:,1]\n",
    "    c_array = sparseCoordData[:,2]   ## Connectivity strength matrix\n",
    "    \n",
    "    width=  int(x_array.max())  ## Must remember numpy is y,x not x,y\n",
    "    height = int(y_array.max())\n",
    "\n",
    "    ## Coordinates are 1 indexed from the original file, but the created matrix is\n",
    "    ## 0 indexed, so need to adjust accordingly\n",
    "    indexArray = y_array * (width+1) + x_array\n",
    "    indexArray = indexArray.astype(int)\n",
    "\n",
    "    if debug: print width,height,my_data.shape,a.shape\n",
    "    \n",
    "    # Create a placeholder array in the proper shape to hold the unsparsed data matrix\n",
    "    a = np.zeros( (1,   (width+1) * (height+1) ))\n",
    "    \n",
    "    ### Copy the connectivity numbers in a single operation using a linearly indexed Array\n",
    "    a[0,indexArray] = c_array\n",
    "    \n",
    "    ## Now reshape the array into height, width  since numpy is y,x ordered\n",
    "    a = np.reshape(a, (height+1, width+1))\n",
    "\n",
    "    ## probably a more efficient way to convert this from a 2D to a 3D array,\n",
    "    \n",
    "    if reShapeByPofTwo:\n",
    "        niiMatrix = np.zeros((a.shape[0]/8,a.shape[1]/8,64))\n",
    "        a = np.reshape(a,(5264/8,5264/8,64))\n",
    "        niiMatrix = a ## Copy the data from A into the nifti matrix\n",
    "        print \"Reshaping Matrix\"\n",
    "\n",
    "    else:\n",
    "        niiMatrix = np.zeros((a.shape[0],a.shape[1],1))  ## make this into a 3-D Matrix\n",
    "        niiMatrix[:,:,0] = a ## Copy the data from A into the nifti matrix\n",
    "    \n",
    "    niiImg = nib.Nifti1Image(niiMatrix, np.eye(4))\n",
    "    \n",
    "    ### I need to reshape A as well\n",
    "##    print np.reshape(testDiag, (4,4,4)).shape\n",
    "    myNiiImg.to_filename(NIIout)\n",
    "    print \"File Saved!\"\n",
    "    return True"
   ]
  },
  {
   "cell_type": "code",
   "execution_count": 6,
   "metadata": {},
   "outputs": [
    {
     "name": "stdout",
     "output_type": "stream",
     "text": [
      "/home/dagutman/data/WholeBrainMatrixConnectivity_downsample_4/Fox_E_fdt_matrix3_downsample_4.dot\n",
      "Reshaping Matrix\n"
     ]
    },
    {
     "ename": "NameError",
     "evalue": "global name 'myNiiImg' is not defined",
     "output_type": "error",
     "traceback": [
      "\u001b[0;31m---------------------------------------------------------------------------\u001b[0m",
      "\u001b[0;31mNameError\u001b[0m                                 Traceback (most recent call last)",
      "\u001b[0;32m<ipython-input-6-f78562375169>\u001b[0m in \u001b[0;36m<module>\u001b[0;34m()\u001b[0m\n\u001b[1;32m      2\u001b[0m \u001b[0;32mfor\u001b[0m \u001b[0mdf\u001b[0m \u001b[0;32min\u001b[0m \u001b[0mdotFiles\u001b[0m\u001b[0;34m:\u001b[0m\u001b[0;34m\u001b[0m\u001b[0m\n\u001b[1;32m      3\u001b[0m     \u001b[0;32mprint\u001b[0m \u001b[0mdf\u001b[0m\u001b[0;34m\u001b[0m\u001b[0m\n\u001b[0;32m----> 4\u001b[0;31m     \u001b[0mconvertDotFileToNifti\u001b[0m\u001b[0;34m(\u001b[0m \u001b[0mdf\u001b[0m\u001b[0;34m,\u001b[0m \u001b[0mdf\u001b[0m\u001b[0;34m+\u001b[0m\u001b[0;34m'.nii.gz'\u001b[0m\u001b[0;34m,\u001b[0m\u001b[0mreShapeByPofTwo\u001b[0m\u001b[0;34m=\u001b[0m\u001b[0mTrue\u001b[0m\u001b[0;34m)\u001b[0m\u001b[0;34m\u001b[0m\u001b[0m\n\u001b[0m",
      "\u001b[0;32m<ipython-input-5-4c085b4dac24>\u001b[0m in \u001b[0;36mconvertDotFileToNifti\u001b[0;34m(dotFileIn, NIIout, reShapeByPofTwo, debug)\u001b[0m\n\u001b[1;32m     45\u001b[0m     \u001b[0;31m### I need to reshape A as well\u001b[0m\u001b[0;34m\u001b[0m\u001b[0;34m\u001b[0m\u001b[0m\n\u001b[1;32m     46\u001b[0m \u001b[0;31m##    print np.reshape(testDiag, (4,4,4)).shape\u001b[0m\u001b[0;34m\u001b[0m\u001b[0;34m\u001b[0m\u001b[0m\n\u001b[0;32m---> 47\u001b[0;31m     \u001b[0mmyNiiImg\u001b[0m\u001b[0;34m.\u001b[0m\u001b[0mto_filename\u001b[0m\u001b[0;34m(\u001b[0m\u001b[0mNIIout\u001b[0m\u001b[0;34m)\u001b[0m\u001b[0;34m\u001b[0m\u001b[0m\n\u001b[0m\u001b[1;32m     48\u001b[0m     \u001b[0;32mprint\u001b[0m \u001b[0;34m\"File Saved!\"\u001b[0m\u001b[0;34m\u001b[0m\u001b[0m\n\u001b[1;32m     49\u001b[0m     \u001b[0;32mreturn\u001b[0m \u001b[0mTrue\u001b[0m\u001b[0;34m\u001b[0m\u001b[0m\n",
      "\u001b[0;31mNameError\u001b[0m: global name 'myNiiImg' is not defined"
     ]
    }
   ],
   "source": [
    "dotFiles = glob.glob('/home/dagutman/data/WholeBrainMatrixConnectivity_downsample_4/*.dot')\n",
    "for df in dotFiles:\n",
    "    print df\n",
    "    convertDotFileToNifti( df, df+'.nii.gz',reShapeByPofTwo=True)"
   ]
  },
  {
   "cell_type": "code",
   "execution_count": 7,
   "metadata": {},
   "outputs": [],
   "source": [
    "## _M denotes the returned data is a numpy  array\n",
    "\n",
    "def dotFileToNParray( dotFileIn, npArrayType='int16'):\n",
    "    sparseCoordData = genfromtxt(dotFileIn, delimiter='  ')\n",
    "    \n",
    "    ## Split out the X, Y and C values from the dot file\n",
    "    srcId_M = sparseCoordData[:,0].astype(int)\n",
    "    tgtId_M = sparseCoordData[:,1].astype(int)\n",
    "    connectivity_M = sparseCoordData[:,2]   ## Connectivity strength matrix\n",
    "\n",
    "    return srcId_M, tgtId_M, connectivity_M\n",
    "\n"
   ]
  },
  {
   "cell_type": "code",
   "execution_count": 23,
   "metadata": {},
   "outputs": [
    {
     "data": {
      "application/vnd.jupyter.widget-view+json": {
       "model_id": "8484fa27c6ed42dbae89f106ad374b17",
       "version_major": 2,
       "version_minor": 0
      },
      "text/html": [
       "<p>Failed to display Jupyter Widget of type <code>interactive</code>.</p>\n",
       "<p>\n",
       "  If you're reading this message in the Jupyter Notebook or JupyterLab Notebook, it may mean\n",
       "  that the widgets JavaScript is still loading. If this message persists, it\n",
       "  likely means that the widgets JavaScript library is either not installed or\n",
       "  not enabled. See the <a href=\"https://ipywidgets.readthedocs.io/en/stable/user_install.html\">Jupyter\n",
       "  Widgets Documentation</a> for setup instructions.\n",
       "</p>\n",
       "<p>\n",
       "  If you're reading this message in another frontend (for example, a static\n",
       "  rendering on GitHub or <a href=\"https://nbviewer.jupyter.org/\">NBViewer</a>),\n",
       "  it may mean that your frontend doesn't currently support widgets.\n",
       "</p>\n"
      ],
      "text/plain": [
       "interactive(children=(IntSlider(value=2631, description=u'src', max=5263), IntSlider(value=50, description=u'myOtra'), Output()), _dom_classes=('widget-interact',))"
      ]
     },
     "metadata": {},
     "output_type": "display_data"
    }
   ],
   "source": [
    "src_id, tgt_id, connectivity = dotFileToNParray(sampleDotFile)\n",
    "\n",
    "@interact(src=(0,src_id.max(),1), myOtra=(0,100,1),continuous_update=False)\n",
    "def plot_connectivity(src,myOtra):\n",
    "    src_index = src_id == src\n",
    "    tgt_index = tgt_id == src\n",
    "    \n",
    "    tgt_index = myOtra\n",
    "    print tgt_index\n",
    "    \n",
    "    x = np.append(src_id[tgt_index], tgt_id[src_index])\n",
    "    \n",
    "    y = np.append(connectivity[tgt_index], connectivity[src_index])\n",
    "    plt.scatter(x,y)\n",
    "    plt.ylim(0,tgt_id.max())\n",
    "    plt.xlim(0,src_id.max())\n",
    "    plt.axvline(x=src)\n",
    "    plt.show()\n",
    "    "
   ]
  },
  {
   "cell_type": "code",
   "execution_count": 9,
   "metadata": {},
   "outputs": [],
   "source": [
    "### Map coordinates back to initial data space... this requires the fdt_matrix3 file\n",
    "matrixCoordIndexFile = \"../SampleDataFiles/coords_for_fdt_matrix3\" \n",
    "## The connectivity matrix is organived as src_id, tgt_id then connectivity\n",
    "## the coords_for_fdt_matrix3 says src_id is equal to x,y,z,t values....\n",
    "\n",
    "def getMatrixLabelMap2Coords( coordsTxtFile, ignoreTimeDim = True, debug=False):\n",
    "    \"\"\"This returns a dictionary that converts a label index to it's representative coordinate...\n",
    "    and returns a MatrixFile, a Dict File and some stats \"\"\"\n",
    "    labelMap_M =   genfromtxt(coordsTxtFile, delimiter='  ').astype(int)\n",
    "    if debug: print labelMap_M\n",
    "    \n",
    "    \n",
    "    xMax, yMax, zMax = (labelMap_M[:,0].max(),labelMap_M[:,1].max(),labelMap_M[:,2].max())\n",
    "    \n",
    "    lblToCoords = {}\n",
    "\n",
    "    for r in labelMap_M:\n",
    "        #print r\n",
    "        (x,y,z,t,lblIndex) = r\n",
    "        if ignoreTimeDim:\n",
    "            lblToCoords[lblIndex] = (x,y,z)\n",
    "        else:\n",
    "            lblToCoords[lblIndex] = (x,y,z,t)\n",
    "\n",
    "            \n",
    "    if debug: print xMax,yMax,zMax\n",
    "    return {'M': labelMap_M, 'D': lblToCoords, \"Mdescrip\": (xMax,yMax,zMax) }"
   ]
  },
  {
   "cell_type": "code",
   "execution_count": 16,
   "metadata": {},
   "outputs": [],
   "source": [
    "anatomicSpaceImg = np.zeros((100,100,100), dtype='int')\n",
    "\n",
    "\n",
    "lblToAnatSpace = getMatrixLabelMap2Coords(matrixCoordIndexFile)\n",
    "\n",
    "## To start I am just going to look at the src_id's to see \"where\" the connectivity matrices were computed from\n",
    "src_id, tgt_id, connectivity = dotFileToNParray(sampleDotFile)\n",
    "\n",
    "for srcPt in set(src_id):\n",
    "    anatCoords =  lblToAnatSpace['D'][srcPt]\n",
    "    anatomicSpaceImg[anatCoords] = 100\n",
    "    \n",
    "    \n",
    "    \n"
   ]
  },
  {
   "cell_type": "code",
   "execution_count": 17,
   "metadata": {},
   "outputs": [],
   "source": [
    "\n",
    "\n",
    "def multi_slice_viewer(volume):\n",
    "    remove_keymap_conflicts({'r', 't'})\n",
    "    fig, ax = plt.subplots()\n",
    "    ax.volume = volume\n",
    "    ax.index = volume.shape[0] // 2\n",
    "    ax.imshow(volume[ax.index])\n",
    "    fig.canvas.mpl_connect('key_press_event', process_key)\n",
    "\n",
    "def process_key(event):\n",
    "    fig = event.canvas.figure\n",
    "    ax = fig.axes[0]\n",
    "    if event.key == 'r':\n",
    "        previous_slice(ax)\n",
    "    elif event.key == 't':\n",
    "        next_slice(ax)\n",
    "    fig.canvas.draw()\n",
    "\n",
    "def previous_slice(ax):\n",
    "    volume = ax.volume\n",
    "    ax.index = (ax.index - 1) % volume.shape[0]  # wrap around using %\n",
    "    ax.images[0].set_array(volume[ax.index])\n",
    "\n",
    "def next_slice(ax):\n",
    "    volume = ax.volume\n",
    "    ax.index = (ax.index + 1) % volume.shape[0]\n",
    "    ax.images[0].set_array(volume[ax.index])"
   ]
  },
  {
   "cell_type": "code",
   "execution_count": 19,
   "metadata": {},
   "outputs": [
    {
     "ename": "NameError",
     "evalue": "name 'VBox' is not defined",
     "output_type": "error",
     "traceback": [
      "\u001b[0;31m---------------------------------------------------------------------------\u001b[0m",
      "\u001b[0;31mNameError\u001b[0m                                 Traceback (most recent call last)",
      "\u001b[0;32m<ipython-input-19-72cb3a04957e>\u001b[0m in \u001b[0;36m<module>\u001b[0;34m()\u001b[0m\n\u001b[1;32m     22\u001b[0m     )\n\u001b[1;32m     23\u001b[0m \u001b[0;34m\u001b[0m\u001b[0m\n\u001b[0;32m---> 24\u001b[0;31m UI = VBox([\n\u001b[0m\u001b[1;32m     25\u001b[0m         HBox([\n\u001b[1;32m     26\u001b[0m                 \u001b[0mVBox\u001b[0m\u001b[0;34m(\u001b[0m\u001b[0;34m[\u001b[0m\u001b[0mw\u001b[0m\u001b[0;34m[\u001b[0m\u001b[0;34m'title'\u001b[0m\u001b[0;34m]\u001b[0m\u001b[0;34m,\u001b[0m \u001b[0mw\u001b[0m\u001b[0;34m[\u001b[0m\u001b[0;34m'display_trend'\u001b[0m\u001b[0;34m]\u001b[0m\u001b[0;34m,\u001b[0m \u001b[0mw\u001b[0m\u001b[0;34m[\u001b[0m\u001b[0;34m'marker'\u001b[0m\u001b[0;34m]\u001b[0m\u001b[0;34m,\u001b[0m\u001b[0;34m]\u001b[0m\u001b[0;34m)\u001b[0m\u001b[0;34m,\u001b[0m\u001b[0;34m\u001b[0m\u001b[0m\n",
      "\u001b[0;31mNameError\u001b[0m: name 'VBox' is not defined"
     ]
    }
   ],
   "source": [
    "def interact_hookup(f, controls):\n",
    "    from ipywidgets import Output\n",
    "    from IPython.display import clear_output\n",
    "    def observer(change):\n",
    "        clear_output()\n",
    "        kwargs = {k:v.value for k,v in controls.items()}\n",
    "        f(**kwargs)\n",
    "    for k,w in controls.items():\n",
    "        w.observe(observer, 'value')\n",
    "    observer(None)\n",
    "\n",
    "w = dict(\n",
    "      title=widgets.Text(value='Hello World', placeholder='Type something', description='Title:', disabled=False),\n",
    "      display_trend=widgets.ToggleButton(value=False, description='Display Trend', icon='check'),\n",
    "      marker=widgets.RadioButtons(options=['x', 'o', '.'], value='x', description='Marker:'),\n",
    "      amplitude=widgets.FloatSlider(value=1, min=-5, max=5, description='Amplitude:'),\n",
    "      step_size=widgets.FloatSlider(value=0.1, min=0.01, max=0.1, step=0.01, description='Step size:'),\n",
    "      periods=widgets.FloatSlider(value=5, min=1, max=20, description='Periods:'),\n",
    "      noise_scale=widgets.FloatSlider(value=0.1, min=0.01, max=2, description='Noise:'),\n",
    "      offset=widgets.FloatSlider(value=0, min=-5, max=5, description='Offset:'),\n",
    "      trend=widgets.FloatSlider(value=1, min=-5, max=5, description='Trend:'),\n",
    "    )\n",
    "\n",
    "UI = VBox([\n",
    "        HBox([\n",
    "                VBox([w['title'], w['display_trend'], w['marker'],]),\n",
    "                VBox([w['amplitude'], w['step_size'], w['periods'], w['noise_scale'], w['offset'], w['trend'],])\n",
    "            ]),\n",
    "    ])\n",
    "\n",
    "interact_hookup(makeplot, w)\n",
    "display(UI)"
   ]
  },
  {
   "cell_type": "code",
   "execution_count": 20,
   "metadata": {},
   "outputs": [
    {
     "data": {
      "application/vnd.jupyter.widget-view+json": {
       "model_id": "fc2d933a5a45405395f5891f78160544",
       "version_major": 2,
       "version_minor": 0
      },
      "text/html": [
       "<p>Failed to display Jupyter Widget of type <code>FloatText</code>.</p>\n",
       "<p>\n",
       "  If you're reading this message in the Jupyter Notebook or JupyterLab Notebook, it may mean\n",
       "  that the widgets JavaScript is still loading. If this message persists, it\n",
       "  likely means that the widgets JavaScript library is either not installed or\n",
       "  not enabled. See the <a href=\"https://ipywidgets.readthedocs.io/en/stable/user_install.html\">Jupyter\n",
       "  Widgets Documentation</a> for setup instructions.\n",
       "</p>\n",
       "<p>\n",
       "  If you're reading this message in another frontend (for example, a static\n",
       "  rendering on GitHub or <a href=\"https://nbviewer.jupyter.org/\">NBViewer</a>),\n",
       "  it may mean that your frontend doesn't currently support widgets.\n",
       "</p>\n"
      ],
      "text/plain": [
       "FloatText(value=0.0)"
      ]
     },
     "metadata": {},
     "output_type": "display_data"
    },
    {
     "data": {
      "application/vnd.jupyter.widget-view+json": {
       "model_id": "b2c2e9939a76466c8f2aaa6db2802146",
       "version_major": 2,
       "version_minor": 0
      },
      "text/html": [
       "<p>Failed to display Jupyter Widget of type <code>FloatSlider</code>.</p>\n",
       "<p>\n",
       "  If you're reading this message in the Jupyter Notebook or JupyterLab Notebook, it may mean\n",
       "  that the widgets JavaScript is still loading. If this message persists, it\n",
       "  likely means that the widgets JavaScript library is either not installed or\n",
       "  not enabled. See the <a href=\"https://ipywidgets.readthedocs.io/en/stable/user_install.html\">Jupyter\n",
       "  Widgets Documentation</a> for setup instructions.\n",
       "</p>\n",
       "<p>\n",
       "  If you're reading this message in another frontend (for example, a static\n",
       "  rendering on GitHub or <a href=\"https://nbviewer.jupyter.org/\">NBViewer</a>),\n",
       "  it may mean that your frontend doesn't currently support widgets.\n",
       "</p>\n"
      ],
      "text/plain": [
       "FloatSlider(value=0.0)"
      ]
     },
     "metadata": {},
     "output_type": "display_data"
    }
   ],
   "source": [
    "a = widgets.FloatText()\n",
    "b = widgets.FloatSlider()\n",
    "display(a,b)\n",
    "\n",
    "mylink = widgets.jslink((a, 'value'), (b, 'value'))"
   ]
  },
  {
   "cell_type": "code",
   "execution_count": 24,
   "metadata": {},
   "outputs": [
    {
     "data": {
      "image/png": "[encoded data removed]",
      "text/plain": [
       "<matplotlib.figure.Figure at 0x7f562efdbe90>"
      ]
     },
     "metadata": {},
     "output_type": "display_data"
    }
   ],
   "source": [
    "multi_slice_viewer(anatomicSpaceImg)"
   ]
  },
  {
   "cell_type": "code",
   "execution_count": 13,
   "metadata": {},
   "outputs": [
    {
     "data": {
      "application/vnd.jupyter.widget-view+json": {
       "model_id": "4ff83bdc015e4136b57c4be66aa93a18",
       "version_major": 2,
       "version_minor": 0
      },
      "text/html": [
       "<p>Failed to display Jupyter Widget of type <code>interactive</code>.</p>\n",
       "<p>\n",
       "  If you're reading this message in the Jupyter Notebook or JupyterLab Notebook, it may mean\n",
       "  that the widgets JavaScript is still loading. If this message persists, it\n",
       "  likely means that the widgets JavaScript library is either not installed or\n",
       "  not enabled. See the <a href=\"https://ipywidgets.readthedocs.io/en/stable/user_install.html\">Jupyter\n",
       "  Widgets Documentation</a> for setup instructions.\n",
       "</p>\n",
       "<p>\n",
       "  If you're reading this message in another frontend (for example, a static\n",
       "  rendering on GitHub or <a href=\"https://nbviewer.jupyter.org/\">NBViewer</a>),\n",
       "  it may mean that your frontend doesn't currently support widgets.\n",
       "</p>\n"
      ],
      "text/plain": [
       "interactive(children=(IntSlider(value=112, description=u'xSlice', max=224, min=1), Output()), _dom_classes=('widget-interact',))"
      ]
     },
     "metadata": {},
     "output_type": "display_data"
    }
   ],
   "source": [
    "from ipywidgets import interact, fixed, widgets\n",
    "plt.rcParams[\"figure.figsize\"] = [14,12]\n",
    "\n",
    "@interact(xSlice=(1,224,1))\n",
    "def visualizeMatrixSlice( xSlice ):\n",
    "    b = np.reshape(a[xSlice,:],(16,329))\n",
    "    plt.imshow(b, cmap='jet')\n",
    "    print xSlice\n",
    "    #print \"HI\"\n",
    "    return \n",
    "    \n",
    "# interact(visualizeMatrixSlice,\n",
    "#         xSlice=widgets.(options=range(1, 15), value=3, description='# of clusters:', disabled=True))"
   ]
  },
  {
   "cell_type": "code",
   "execution_count": null,
   "metadata": {},
   "outputs": [],
   "source": [
    "#     plt.show()\n",
    "    \n",
    "#     km = KMeans(n_clusters=k)\n",
    "#     km.fit(X)\n",
    "#     cluster_labels = km.labels_ #each patient's corresponding cluster #\n",
    "#     labels = list(set(cluster_labels)) #set of cluster numbers, e.g. 0 and 1 for k = 2\n",
    "#     index = np.empty(shape=(0,0))\n",
    "#     for label in labels:\n",
    "#         idx = np.where(cluster_labels == label)[0]\n",
    "#         index = np.append(index, idx)\n",
    "#     D = squareform(pdist(X, 'euclidean'))\n",
    "#     index = index.astype(int)\n",
    "#     reordered_d = D[index,:][:,index] #reorganizes the data, patients within same cluster are together\n",
    "#     plt.imshow(reordered_d, cmap='Greys_r')\n",
    "#     plt.colorbar()\n",
    "#     plt.figure()\n",
    "\n",
    "## This will generate matrices that have been seeded with various ROIs so I can test the algorithm is working\n",
    "# def plotSimplyArray(get_matrix_slice, fmt='png'):\n",
    "#     # showarray(b)\n",
    "#     plt.plot(get_matrix_slice)\n",
    "#     plt.show()"
   ]
  },
  {
   "cell_type": "code",
   "execution_count": null,
   "metadata": {},
   "outputs": [],
   "source": [
    "myArray = my_data\n",
    "xy_array = myArray[:, :2]\n",
    "v_array = myArray[:, 2]\n",
    "### need to compute maxX, maxY\n",
    "# calculate the linear  index of this i*whatever + j\n",
    "a = np.zeroes( ())"
   ]
  },
  {
   "cell_type": "code",
   "execution_count": null,
   "metadata": {},
   "outputs": [],
   "source": [
    "# def convertDotFileToNifti( dotFileIn, NIIout, reShapeByPofTwo=False, debug=False):\n",
    "#     ### Eventually instead of outputting a linear gigantic X,Y matric I am going to reshape\n",
    "#     ### it and take advantage of the z Plane\n",
    "#     ## This is a sparsely encoded matrix of X by Y by Connectivity generated by probtrackX\n",
    "#     sparseCoordData = genfromtxt(sampleDotFile, delimiter='  ')\n",
    "    \n",
    "#     ## Split out the X, Y and C values from the dot file\n",
    "#     x_array = my_data[:,0]\n",
    "#     y_array = my_data[:,1]\n",
    "#     c_array = my_data[:,2]   ## Connectivity strength matrix\n",
    "    \n",
    "#     width=  int(x_array.max())  ## Must remember numpy is y,x not x,y\n",
    "#     height = int(y_array.max())\n",
    "\n",
    "#     ## Coordinates are 1 indexed from the original file, but the created matrix is\n",
    "#     ## 0 indexed, so need to adjust accordingly\n",
    "#     indexArray = y_array * (width+1) + x_array\n",
    "#     indexArray = indexArray.astype(int)\n",
    "\n",
    "#     if debug: print width,height,my_data.shape,a.shape\n",
    "    \n",
    "#     # Create a placeholder array in the proper shape to hold the unsparsed data matrix\n",
    "#     a = np.zeros( (1,   (width+1) * (height+1) ))\n",
    "    \n",
    "#     ### Copy the connectivity numbers in a single operation using a linearly indexed Array\n",
    "#     a[0,indexArray] = c_array\n",
    "    \n",
    "#     ## Now reshape the array into height, width  since numpy is y,x ordered\n",
    "#     a = np.reshape(a, (height+1, width+1))\n",
    "\n",
    "#     ## probably a more efficient way to convert this from a 2D to a 3D array,\n",
    "    \n",
    "#     if reShapeByPofTwo:\n",
    "#         niiMatrix = np.zeros((a.shape[0]/8,a.shape[1]/8,64))\n",
    "#         a = np.reshape(a,(5264/8,5264/8,64))\n",
    "#         niiMatrix = a ## Copy the data from A into the nifti matrix\n",
    "#         print \"Reshaping Matrix\"\n",
    "\n",
    "#     else:\n",
    "#         niiMatrix = np.zeros((a.shape[0],a.shape[1],1))  ## make this into a 3-D Matrix\n",
    "#         niiMatrix[:,:,0] = a ## Copy the data from A into the nifti matrix\n",
    "    \n",
    "#     niiImg = nib.Nifti1Image(niiMatrix, np.eye(4))\n",
    "    \n",
    "#     ### I need to reshape A as well\n",
    "# ##    print np.reshape(testDiag, (4,4,4)).shape\n",
    "#     myNiiImg.to_filename(NIIout)\n",
    "#     print \"File Saved!\"\n",
    "#     return True"
   ]
  },
  {
   "cell_type": "code",
   "execution_count": null,
   "metadata": {},
   "outputs": [],
   "source": []
  },
  {
   "cell_type": "code",
   "execution_count": null,
   "metadata": {},
   "outputs": [],
   "source": [
    "# myArray = np.ones((100,100)) * 100\n",
    "### Hot Spot is currently a square, starting at 0,0 to 10,10\n",
    "from os.path import join as oj\n",
    "\n",
    "subjsPerGroup = 10\n",
    "imageMatrixWidth, imageMatrixHeight = ( 100, 100)  ##Size of the entire image\n",
    "\n",
    "## Size of the ROIs I spike into the image\n",
    "roiWidth,roiHeight = (10,10)\n",
    "\n",
    "ctrlRoiStarts = [0,40]  ## Assuming squares and starting at the same x,y coordinate to make it easier for now\n",
    "testRoiStarts = [60,80]\n",
    "\n",
    "outputDir = 'randomiseInputMatrices'\n",
    "\n",
    "# myArray[20:30,20:30] = 50\n",
    "# myArray[70:80,70:80] = 50\n",
    "# saveMatrixToNifti(myArray,\"patient000.nii.gz\")\n",
    "# print myArray\n",
    "\n",
    "### Output Control Subjects\n",
    "ctrlSubjBaseImage = np.ones((imageMatrixWidth,imageMatrixHeight))\n",
    "testSubjBaseImage = np.ones((imageMatrixWidth,imageMatrixHeight))\n",
    "\n",
    "\n",
    "for roiStart in ctrlRoiStarts:\n",
    "    print roiStart\n",
    "    ctrlSubjBaseImage[roiStart:(roiStart+roiWidth),roiStart:(roiStart+roiWidth)]  = 300\n",
    "\n",
    "for i in range(10):\n",
    "    ptID = \"Ctrl%02d\" % i\n",
    "    saveMatrixToNifti(ctrlSubjBaseImage,oj(outputDir,\"ctrl%02d.nii.gz\" % i))\n",
    "\n",
    "### Output Test Subjects\n",
    "for roiStart in testRoiStarts:\n",
    "    testSubjBaseImage[roiStart:(roiStart+roiWidth),roiStart:(roiStart+roiHeight)]  = 300\n",
    "\n",
    "\n",
    "for i in range(10):\n",
    "    ptID = \"Test%02d\" % i\n",
    "    saveMatrixToNifti(testSubjBaseImage,oj(outputDir,\"test%02d.nii.gz\" % i))\n",
    "    \n",
    "imageMaskArray = np.ones((imageMatrixWidth,imageMatrixHeight))\n",
    "saveMatrixToNifti(imageMaskArray,oj(outputDir,'cohortImageMask.nii.gz'),addRandom=False)"
   ]
  },
  {
   "cell_type": "code",
   "execution_count": null,
   "metadata": {},
   "outputs": [],
   "source": [
    "#Result Set:  It is not generating any results when the data is all 0's and has a single inserted layer with real data\n",
    "\n",
    "### Need to generate a mask of all 1's\n",
    "## Add in noise dimension as well\n",
    "## gaussian will multiple by 100 just for the hell of it\n",
    "showarray(testSubjBaseImage)\n",
    "#testSubjBaseImage[20]"
   ]
  },
  {
   "cell_type": "code",
   "execution_count": null,
   "metadata": {},
   "outputs": [],
   "source": [
    "def saveMatrixToNifti( numpyArray, NIIout, addRandom=True, copyTo3Stacks = True):\n",
    "    ### Current I assume this is a 2D array, if it is not I will exit.. later on we can try dealing with 3/4 d arrays\n",
    "#    print numpyArray.shape\n",
    "    \n",
    "    if len(numpyArray.shape) != 2:\n",
    "        print \"ERROR-- only works for 2D array input currently\"\n",
    "        sys.exit()\n",
    "    (height,width)  = numpyArray.shape\n",
    "    ##    backgroundMode = ['zeroes','gaussian']\n",
    "    # Create a placeholder array in the proper shape to hold the unsparsed data matrix\n",
    "    #a = np.zeros( (1,   (width) * (height) ))\n",
    "    niiMatrix = np.zeros((height,width,3))  ## make this into a 3-D Matrix\n",
    "\n",
    "    if addRandom:\n",
    "        ### This will add a random Gaussian matrix to each input array\n",
    "        noiseData = np.random.normal(scale=100,size=(height,width))\n",
    "        niiMatrix[:,:,0] = noiseData + numpyArray ## Copy the data from A into the nifti matrix\n",
    "    else:\n",
    "        niiMatrix[:,:,0] = numpyArray \n",
    "        \n",
    "    if copyTo3Stacks:\n",
    "        niiMatrix[:,:,1] =  niiMatrix[:,:,0]\n",
    "        niiMatrix[:,:,2] =  niiMatrix[:,:,0]\n",
    "    \n",
    "    niiImg = nib.Nifti1Image(niiMatrix, np.eye(4))\n",
    "    \n",
    "    ### I need to reshape A as well\n",
    "    niiImg.to_filename(NIIout)\n",
    "    return True"
   ]
  },
  {
   "cell_type": "code",
   "execution_count": null,
   "metadata": {},
   "outputs": [],
   "source": []
  },
  {
   "cell_type": "code",
   "execution_count": null,
   "metadata": {},
   "outputs": [],
   "source": [
    "### Input Data Sets consist of .dot files which we need to eventually convert into nifti files\n",
    "# M is the \"real\" data with size 5263x5263\n",
    "\n",
    "# Z=M*0; % creates 5263x5263 matrix of zeros\n",
    "# N=cat(3,M,Z); % concatenate M and Z in the 3rd dimension\n",
    "# > in matlab\n",
    "# >\n",
    "# > x=load('fdt_matrix3.dot');\n",
    "# > M=full(spconvert(x));\n",
    "# >\n",
    "# > % reshape matrix into 3 dimensions - need to do math to find factors\n",
    "# > B=reshape(M,64,529,17161);\n",
    "# >\n",
    "# > % need this toolbox -\n",
    "# > https://www.mathworks.com/matlabcentral/fileexchange/8797-tools-for-nifti-and-analyze-image?focused=3806902&tab=function\n",
    "# >\n",
    "# > save('connectivity_matrix_nothr_reshape3d.mat','B','-v7.3');\n",
    "# > nii=make_nii(B);\n",
    "# > save_nii(nii,'connectivity_matrix_nothr_reshape3d.nii');\n"
   ]
  }
 ],
 "metadata": {
  "kernelspec": {
   "display_name": "Python 2",
   "language": "python",
   "name": "python2"
  },
  "language_info": {
   "codemirror_mode": {
    "name": "ipython",
    "version": 2
   },
   "file_extension": ".py",
   "mimetype": "text/x-python",
   "name": "python",
   "nbconvert_exporter": "python",
   "pygments_lexer": "ipython2",
   "version": "2.7.12"
  }
 },
 "nbformat": 4,
 "nbformat_minor": 2
}
