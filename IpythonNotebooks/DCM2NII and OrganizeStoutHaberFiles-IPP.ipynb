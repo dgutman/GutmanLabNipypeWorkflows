{
 "cells": [
  {
   "cell_type": "code",
   "execution_count": 2,
   "metadata": {
    "collapsed": true
   },
   "outputs": [],
   "source": [
    "## Nipype Workflow for Erin's DTI Data\n",
    "### Rename and Reorganize  NIFTI Image Data set\n",
    "import os, sys\n",
    "from os.path import join as oj\n",
    "from glob import glob\n",
    "import shutil\n",
    "\n",
    "\n",
    "import nipype.pipeline.engine as pe\n",
    "import nipype.interfaces.utility as util\n",
    "import nipype.interfaces.io as nio\n",
    "from nipype.caching import Memory\n",
    "from nipype.interfaces.dcm2nii import Dcm2nii"
   ]
  },
  {
   "cell_type": "code",
   "execution_count": 3,
   "metadata": {
    "collapsed": false
   },
   "outputs": [],
   "source": [
    "from StoutSubjectDict import StoutSubjectIDMap\n",
    "import StoutData_ConvertRawData as scrd\n",
    "from pprint import pprint\n",
    "\n",
    "StoutRawData = '/home/ehecht/BIGDATA/Stout_Homo_Faber/RAWDATA/'\n",
    "RawNIIDir = '/EINSTEIN_BIGDATA/NIPYPE_WD/Stout_Haber/niiData_V3/'\n",
    "NiPypeOutputDir = '/EINSTEIN_BIGDATA/NIPYPE_WD/Stout_Haber/niPypePreProc/'\n",
    "mem = Memory(base_dir=NiPypeOutputDir)  ## Create a memory cache I can use going forward\n",
    "\n",
    "dcmConverter = mem.cache(Dcm2nii)"
   ]
  },
  {
   "cell_type": "code",
   "execution_count": 4,
   "metadata": {
    "collapsed": false
   },
   "outputs": [],
   "source": [
    "from ipyparallel import Client\n",
    "rc = Client()\n",
    "dview = rc[:]\n",
    "dview.block=False\n",
    "#!conda install ipyparallel --yes"
   ]
  },
  {
   "cell_type": "code",
   "execution_count": null,
   "metadata": {
    "collapsed": false
   },
   "outputs": [],
   "source": [
    "dview.targets"
   ]
  },
  {
   "cell_type": "code",
   "execution_count": 5,
   "metadata": {
    "collapsed": false
   },
   "outputs": [
    {
     "name": "stdout",
     "output_type": "stream",
     "text": [
      "81 Scan Image Data Sets have been located\n"
     ]
    }
   ],
   "source": [
    "# reload( StoutSubjectDict)\n",
    "\n",
    "### Zip up all the data so the subjID and folder are easier to keep track of\n",
    "scanImageData  = []\n",
    "for curScanSession in StoutSubjectIDMap:\n",
    "    curScanSession['dcmScanSet'] =  scrd.DicomScanSet\n",
    "    curScanSession['dcmRoot'] =  scrd.StoutRawData\n",
    "\n",
    "\n",
    "scanImageData = StoutSubjectIDMap    \n",
    "print len(scanImageData),'Scan Image Data Sets have been located'"
   ]
  },
  {
   "cell_type": "code",
   "execution_count": 6,
   "metadata": {
    "collapsed": true
   },
   "outputs": [],
   "source": [
    "from random import shuffle\n",
    "shuffle(scanImageData)"
   ]
  },
  {
   "cell_type": "code",
   "execution_count": null,
   "metadata": {
    "collapsed": false
   },
   "outputs": [],
   "source": []
  },
  {
   "cell_type": "code",
   "execution_count": 7,
   "metadata": {
    "collapsed": false
   },
   "outputs": [],
   "source": [
    "HomoFaberImageSessions = [] ### Null Array this will have the image sessions that have an actual Directory\n",
    "                            ### Helps me avoid typos\n",
    "UnknownImageSession = []\n",
    "\n",
    "\n",
    "MappedFolders = [x['folder'] for x in StoutSubjectIDMap]\n",
    "foldersToIgnore = ['test_BITC20141114','test_BITC20141118']\n",
    "\n",
    "for ss in os.listdir(StoutRawData):\n",
    "    fullSubjDirPath =  oj(StoutRawData,ss)\n",
    "    if ss not in MappedFolders and ss not in foldersToIgnore:\n",
    "        #print \"Could not find %s in subject ID list\" % ss\n",
    "        UnknownImageSession.append(ss)\n",
    "    elif os.path.isdir(fullSubjDirPath):\n",
    "        HomoFaberImageSessions.append(ss)\n",
    "        \n",
    "# print len(HomoFaberImageSessions),\"Subjects to process\""
   ]
  },
  {
   "cell_type": "code",
   "execution_count": 10,
   "metadata": {
    "collapsed": false
   },
   "outputs": [
    {
     "name": "stdout",
     "output_type": "stream",
     "text": [
      "46\n",
      "81\n"
     ]
    }
   ],
   "source": [
    "print len(UnknownImageSession)\n",
    "print len(StoutSubjectIDMap)\n",
    "for sf in UnknownImageSession:\n",
    "    pass\n",
    "    #print \"{'folder': '%s', 'scanID': ' ', 'sessionNum': ' '}\" % sf"
   ]
  },
  {
   "cell_type": "code",
   "execution_count": null,
   "metadata": {
    "collapsed": false
   },
   "outputs": [],
   "source": [
    "# for imgSessionDict in scanImageData:\n",
    "#     ### To make this work easier, I am passing a single dictionary with all the params I need\n",
    "#     ### it's very confusing how to pass more than one parameter at a time using the MAP function\n",
    "#     CheckCompleteDataSet(DicomScanSet, imgSessionDict,  StoutRawData,debug=False)"
   ]
  },
  {
   "cell_type": "code",
   "execution_count": null,
   "metadata": {
    "collapsed": false
   },
   "outputs": [],
   "source": [
    "print len(scanImageData)"
   ]
  },
  {
   "cell_type": "code",
   "execution_count": null,
   "metadata": {
    "collapsed": false
   },
   "outputs": [],
   "source": []
  },
  {
   "cell_type": "code",
   "execution_count": 11,
   "metadata": {
    "collapsed": false
   },
   "outputs": [
    {
     "name": "stdout",
     "output_type": "stream",
     "text": [
      "Subj01_Scan1 ***COMPLETE***\n"
     ]
    },
    {
     "ename": "NameError",
     "evalue": "name 'moveCompleteDataSet' is not defined",
     "output_type": "error",
     "traceback": [
      "\u001b[0;31m---------------------------------------------------------------------------\u001b[0m",
      "\u001b[0;31mNameError\u001b[0m                                 Traceback (most recent call last)",
      "\u001b[0;32m<ipython-input-11-244de8047073>\u001b[0m in \u001b[0;36m<module>\u001b[0;34m()\u001b[0m\n\u001b[1;32m     21\u001b[0m     \u001b[0;32mif\u001b[0m \u001b[0mfoundCompleteSet\u001b[0m\u001b[0;34m:\u001b[0m\u001b[0;34m\u001b[0m\u001b[0m\n\u001b[1;32m     22\u001b[0m         \u001b[0;32mprint\u001b[0m \u001b[0;34m\"***COMPLETE***\"\u001b[0m\u001b[0;34m\u001b[0m\u001b[0m\n\u001b[0;32m---> 23\u001b[0;31m         \u001b[0mmoveCompleteDataSet\u001b[0m\u001b[0;34m(\u001b[0m \u001b[0mImgSession\u001b[0m\u001b[0;34m,\u001b[0m \u001b[0mCompleteNIISetDir\u001b[0m\u001b[0;34m)\u001b[0m\u001b[0;34m\u001b[0m\u001b[0m\n\u001b[0m\u001b[1;32m     24\u001b[0m     \u001b[0;32melse\u001b[0m\u001b[0;34m:\u001b[0m\u001b[0;34m\u001b[0m\u001b[0m\n\u001b[1;32m     25\u001b[0m         \u001b[0;32mprint\u001b[0m \u001b[0;34m\"XXX INCOMPLETE XXX\"\u001b[0m\u001b[0;34m\u001b[0m\u001b[0m\n",
      "\u001b[0;31mNameError\u001b[0m: name 'moveCompleteDataSet' is not defined"
     ]
    }
   ],
   "source": [
    "renamingDict = [ { 'inputDir': 'T1/co*.nii.gz', 'outputFileWPath': 'T1/struc_raw.nii.gz', 'fileType': 'T1'},\n",
    "                 { 'inputDir': 'DTI/preprocess/diff5B0_PA/*.nii.gz', 'outputFileWPath': 'DTI/preprocess/5B0_PA/nodif_PA.nii.gz', 'fileType': 'nodiff_PA'},\n",
    "                 { 'inputDir': 'DTI/preprocess/diff5B0_PA/*.bval', 'outputFileWPath': 'DTI/preprocess/5B0_PA/nodif_PA_bval', 'fileType': 'nodiff_PA_bval'},\n",
    "                 { 'inputDir': 'DTI/preprocess/diff5B0_PA/*.bvec', 'outputFileWPath': 'DTI/preprocess/5B0_PA/nodif_PA_bvec', 'fileType': 'nodiff_PA_bvec'},\n",
    "                 { 'inputDir': 'DTI/preprocess/AP/*.nii.gz', 'outputFileWPath': 'DTI/preprocess/AP/data_AP.nii.gz', 'fileType': 'data_AP'},\n",
    "                 { 'inputDir': 'DTI/preprocess/AP/*.bval', 'outputFileWPath': 'DTI/preprocess/AP/data_AP_bval', 'fileType': 'data_AP_bval'},\n",
    "                 { 'inputDir': 'DTI/preprocess/AP/*.bvec', 'outputFileWPath': 'DTI/preprocess/AP/data_AP_bvec', 'fileType': 'data_AP_bvec'},\n",
    "                ]\n",
    "\n",
    "CompleteNIISetDir = '/FEATURES/NiPypeWorkingData/StoutHaber/NII_Data_Complete'\n",
    "\n",
    "#print sorted(os.listdir(RawNIIDir))\n",
    "for ImgSession in sorted(os.listdir(RawNIIDir)):\n",
    "    print ImgSession,\n",
    "    ###I NEED TO DETERMINE IF A RawNIIDir contains all of the necessary files\n",
    "    foundCompleteSet = True\n",
    "    for ftrD in renamingDict: #file to rename Dictionary\n",
    "        g= glob( oj( RawNIIDir, ImgSession, ftrD['inputDir']))\n",
    "        if len(g) != 1:\n",
    "            foundCompleteSet = False\n",
    "    if foundCompleteSet:\n",
    "        print \"***COMPLETE***\"\n",
    "        moveCompleteDataSet( ImgSession, CompleteNIISetDir)\n",
    "    else:\n",
    "        print \"XXX INCOMPLETE XXX\"\n"
   ]
  },
  {
   "cell_type": "code",
   "execution_count": 12,
   "metadata": {
    "collapsed": false
   },
   "outputs": [],
   "source": [
    "#def CheckCompleteDataSet( dataSetDict, imageSessionDict, dcmRootDir, debug=False):\n",
    "@dview.parallel(block=False)    \n",
    "def CheckCompleteDataSet( processingInfoDict):\n",
    "    \n",
    "    \"\"\"This expects a dictionary which has the primary key as the image type, that then yields another\n",
    "    dictionary of the dcmDir and outputDirName that should be associated with the input type, see example\n",
    "    above\"\"\"\n",
    "    debug=False\n",
    "    pid = processingInfoDict  ## made an alias\n",
    "    \n",
    "    foundCompleteDCMSet = True\n",
    "    if debug: print \"looking for files for %s \" %  pid['folder']\n",
    "    ### I will still try and convert incomplete sets, at least for now\n",
    "    \n",
    "    for imageType in pid['dcmScanSet']:\n",
    "        if debug: print \"looking for %s\" % imageType\n",
    "        dcmDirPath = oj(pid['dcmRoot'], pid['folder'],pid['dcmScanSet'][imageType]['dcmDir']) ### There should be only one of these\n",
    "        imgDcmDir =  glob(dcmDirPath)\n",
    "        if len(imgDcmDir) > 1: \n",
    "            print \"Found more than one matching directory\"\n",
    "            print imgDcmDir\n",
    "            sys.exit\n",
    "        elif len(imgDcmDir) == 0:\n",
    "            print \"Not a complete set\",dcmDirPath\n",
    "            foundCompleteDCMSet = False\n",
    "        else:\n",
    "            #### This means I found one and only 1 match, so I will not convert it's contents and then move the output\n",
    "            NIIOutputDir = oj( RawNIIDir, pid['subjID'], pid['dcmScanSet'][imageType]['outputDirName'])\n",
    "            generateNIIData( imgDcmDir[0], imageType,  NIIOutputDir,debug=True)\n"
   ]
  },
  {
   "cell_type": "code",
   "execution_count": null,
   "metadata": {
    "collapsed": false
   },
   "outputs": [],
   "source": [
    "\n",
    "def moveCompleteDataSet( ImgSessionName, TargetDir, overWriteExisting=False):\n",
    "    \"\"\"Once I know I have a complete set of NII images, I am going to move them to a target directory for further processing\"\"\"\n",
    "#     print ImgSessionName,\"Needs to be moved\"\n",
    "    ## Walk the renaming dict and move the appropriate files\n",
    "    for ftrD in renamingDict: #file to rename Dictionary\n",
    "        inputFile = glob( oj( RawNIIDir, ImgSession, ftrD['inputDir']))[0]\n",
    "        TargetFileNameWPath=  oj( TargetDir, ImgSessionName, ftrD['outputFileWPath'])\n",
    "#         print inputFile,TargetFileNameWPath\n",
    "        tgtDir = os.path.dirname(TargetFileNameWPath)\n",
    "        if not os.path.isdir(tgtDir):\n",
    "            os.makedirs(tgtDir)\n",
    "        if not os.path.isfile(TargetFileNameWPath):\n",
    "            shutil.copy(inputFile,TargetFileNameWPath)\n",
    "            \n",
    "        \n"
   ]
  },
  {
   "cell_type": "code",
   "execution_count": 13,
   "metadata": {
    "collapsed": false
   },
   "outputs": [
    {
     "name": "stdout",
     "output_type": "stream",
     "text": [
      "81\n"
     ]
    }
   ],
   "source": [
    "print len(scanImageData)\n",
    "JobStatus = CheckCompleteDataSet.map(scanImageData)"
   ]
  },
  {
   "cell_type": "code",
   "execution_count": null,
   "metadata": {
    "collapsed": true
   },
   "outputs": [],
   "source": [
    "               \n",
    "# $statement  = \" mv $WORKINGDATAPATH/\" . $subj[$i] . \"/DTI/preprocess/AP_ADC/*.nii.gz \";\n",
    "# $statement .= \" $WORKINGDATAPATH/\" . $subj[$i] . \"/DTI/preprocess/AP_ADC/AP_ADC.nii.gz \";\n",
    "# #print \"$statement \\n\";\n",
    "# $statement  = \" mv $WORKINGDATAPATH/\" . $subj[$i] . \"/DTI/preprocess/AP_FA/*.nii.gz \";\n",
    "# $statement .= \" $WORKINGDATAPATH/\" . $subj[$i] . \"/DTI/preprocess/AP_FA/AP_FA.nii.gz \";\n",
    "\n"
   ]
  },
  {
   "cell_type": "code",
   "execution_count": null,
   "metadata": {
    "collapsed": false
   },
   "outputs": [],
   "source": [
    "JobStatus.result()"
   ]
  },
  {
   "cell_type": "code",
   "execution_count": null,
   "metadata": {
    "collapsed": true
   },
   "outputs": [],
   "source": [
    "\n",
    "# #print \"$statement \\n\";\n",
    "# $statement  = \" mv $WORKINGDATAPATH/\" . $subj[$i] . \"/DTI/preprocess/AP_TRACEW/*.nii.gz \";\n",
    "# $statement .= \" $WORKINGDATAPATH/\" . $subj[$i] . \"/DTI/preprocess/AP_TRACEW/AP_TRACEW.nii.gz \";\n",
    "# #print \"$statement \\n\";\n",
    "# $statement  = \" mv $WORKINGDATAPATH/\" . $subj[$i] . \"/DTI/preprocess/AP_TRACEW/*.bval \";\n",
    "# $statement .= \" $WORKINGDATAPATH/\" . $subj[$i] . \"/DTI/preprocess/AP_TRACEW/AP_TRACEW_bval \";\n",
    "# #print \"$statement \\n\";\n",
    "# $statement  = \" mv $WORKINGDATAPATH/\" . $subj[$i] . \"/DTI/preprocess/AP_TRACEW/*.bvec \";\n",
    "# $statement .= \" $WORKINGDATAPATH/\" . $subj[$i] . \"/DTI/preprocess/AP_TRACEW/AP_TRACEW_bvec \";\n",
    "# #print \"$statement \\n\";"
   ]
  },
  {
   "cell_type": "code",
   "execution_count": null,
   "metadata": {
    "collapsed": false
   },
   "outputs": [],
   "source": [
    "JobStatus.running()"
   ]
  },
  {
   "cell_type": "code",
   "execution_count": null,
   "metadata": {
    "collapsed": false
   },
   "outputs": [],
   "source": [
    "%px from os.path import join as oj\n",
    "%px import numpy \n",
    "%px cd /home/dgutman/devel/GutmanLabNipypeWorkflows/IpythonNotebooks\n",
    "\n",
    "%px from StoutData_ConvertRawData import generateNIIData\n",
    "%px from glob import glob\n",
    "%px RawNIIDir = '/EINSTEIN_BIGDATA/NIPYPE_WD/Stout_Haber/niiData_V3'"
   ]
  },
  {
   "cell_type": "code",
   "execution_count": null,
   "metadata": {
    "collapsed": true
   },
   "outputs": [],
   "source": [
    "#!/usr/bin/perl\n",
    "\n",
    "$RAWDATAPATH=\"/home/ehecht/BIGDATA/Stout_Homo_Faber/RAWDATA/\";\n",
    "$WORKINGDATAPATH=\"/home/ehecht/BIGDATA/Stout_Homo_Faber/WORKINGDATA/\"; \n",
    "$OUTPUTDATAPATH=\"/home/ehecht/BIGDATA/Stout_Homo_Faber/WORKINGDATA/IFG-PrCG_Segmentation\"; \n",
    "\n",
    "$subjIDSTRING=\"Homofabor_ID001_BITC20150129 HOMO-FABERSubject1_BITC20150527 HOMO_FABERSubject#1_BITC20151022 Homofabor_ID002_BITC20141205 HOMO-FABERSubject2_BITC20150527 HOMO_FABERSubject#2_BITC20151019 Homofabor_ID003_BITC20141211 HOMO-FABERSubject3_BITC20150408 HOMO-FABERSubject3_BITC20150422 HOMO-FABERSubject3_BITC20150508 Homofabor_ID004_BITC20141212 Homofabor_ID005_BITC20141216 HOMO-FABERSubject5_BITC20150504 HOMO_FABERSubject#5_BITC20151007 Homofabor_ID006_BITC20150114 HOMO-FABERSubject#6_BITC20150625 HOMO-FABERSubject_BITC20150604 Homofabor_ID007_BITC20150129 HOMO-FABERSubject7_BITC20150410 HOMO_FABERSubject#7_BITC20150708 Homofabor_ID008_BITC20150226 HOMO-FABERSubject#8_BITC20150612 Homofabor_ID009_BITC20150121 HOMO_FABERSubject#9_BITC20150701 HOMO_FABERSubject#9_BITC20151021 Homofabor_ID010_BITC20150123 HOMO-FABERSubject10_BITC20150421 HOMO-FABERSubject10_BITC20150508 HOMO-FABERSubject11_BITC20150610 HOMO_FABERSubject11_BITC20160111 HOMOFABERSubject12_BITC20150902 HOMO_FABERSubject#13_BITC20151026 HOMO_FABERSubject14_BITC20150813 HOMO_FABERSubject14_BITC20151202 HOMOFABER_BITC20150831 HOMOFABERSubject15_BITC20150831 HOMOFABERSubject50_BITC20150831 HOMO_FABERSubject15_BITC20151208 HOMO_FABERSubject16_BITC20151216 HOMO_FABERSubject17_BITC20151112 HOMO_FABERSubject18_BITC20151120 HOMO_FABERSubject19_BITC20151117 HOMO_FABERSubject20_BITC20151120 HOMO_FABERSubject21_BITC20151105 HOMO_FABERSubject22_BITC20151119 HOMO_FABERSubject22_BITC20160121 HOMO_FABERSubject23_BITC20151209 HOMO_FABERSubject24_BITC20151112 HOMO_FABERSubject24_BITC20160111 HOMO_FABERSubject25_BITC20151210 HOMO_FABERSubject26_BITC20151117 HOMO_FABERSubject26_BITC20160127 HOMO_FABERSubject27_BITC20151203 HOMO_FABERSubject27_BITC20160205 HOMO_FABERSubject28_BITC20160126 HOMO_FABERSubject29_BITC20151116 HOMO_FABERSubject31_BITC20160204 HOMO_FABERSubject32_BITC20160203 HOMO_FABERSubject34_BITC20160129\";\n",
    "@subjID = split(/ /,$subjIDSTRING);\n",
    "\n",
    "$subjSTRING=\"Subj01_Scan1 Subj01_Scan2 Subj01_Scan3 Subj02_Scan1 Subj02_Scan2a Subj02_Scan2b Subj03_Scan1 Subj03_Scan2a Subj03_Scan2b Subj03_Scan3 Subj04_Scan1 Subj05_Scan1 Subj05_Scan2 Subj05_Scan3 Subj06_Scan1 Subj06_Scan2a Subj06_Scan2b Subj07_Scan1 Subj07_Scan2 Subj07_Scan3 Subj08_Scan1 Subj08_Scan2 Subj09_Scan1 Subj09_Scan2 Subj09_Scan3 Subj10_Scan1 Subj10_Scan2 Subj10_Scan3 Subj11_Scan1 Subj11_Scan2 Subj12_Scan1 Subj13_Scan1 Subj14_Scan1 Subj14_Scan2 Subj15_Scan1 Subj15_Scan1b Subj15_Scan1b Subj15_Scan2 Subj16_Scan1 Subj17_Scan1 Subj18_Scan1 Subj19_Scan1 Subj20_Scan1 Subj21_Scan1 Subj22_Scan1 Subj22_Scan2 Subj23_Scan1 Subj24_Scan1 Subj24_Scan2 Subj25_Scan1 Subj26_Scan1 Subj26_Scan2 Subj27_Scan1 Subj27_Scan2 Subj28_Scan1 Subj29_Scan1 Subj31_Scan1 Subj32_Scan1 Subj34_Scan1\";\n",
    "@subj = split(/ /,$subjSTRING);\n",
    "\n",
    "$volSTRING=\"07 08 09 10 11 12 13 14 15 16 17 18 19 20 21 22 23 24 25 26 27 28 29 30 31 32 33 34 35 36 37 38 39 40 41 42 43 44 45 46 47 48 49 50 51 52 53 54 55 56 57 58 59 60 61 62 63 64 65 66 67 68 69 70 71 72 73 74 75 76 77 78 79 80 81 82 83 84 85 86 87 88 89 90 91 92 93 94 95 96 97\";\n",
    "@vol = split(/ /,$volSTRING);\n",
    "\n",
    "$roiSTRING=\"IFG-vPrCG\"; \n",
    "@roi = split(/ /,$roiSTRING);\n",
    "\n",
    "$hemiSTRING=\"L R\";\n",
    "@hemi = split(/ /,$hemiSTRING);\n",
    "\n",
    "# run topup first, then feed topup output into eddy (the new eddy, not the old eddy_correct)\n",
    "\n",
    "for($i=0;$i<=$#subj;$i++)\t{\n",
    "\n",
    "print \"#\\$ -cwd\\n\";\n",
    "print \"#\\$ -S /bin/bash \\n\";\n",
    "print \"export FSLDIR=/usr/local/fsl  \\n\";\n",
    "print \". /usr/share/fsl/5.0/etc/fslconf/fsl.sh \\n\";\n",
    "print \"export PATH=\\$PATH:\\$FSLDIR/bin \\n\";\n",
    "print \"#!/bin/bash \\n\";\n",
    "\n",
    "# set up directories\n",
    "$statement  = \" mkdir $WORKINGDATAPATH/\" . $subj[$i] . \"/ \";\n",
    "#print \"$statement \\n\";\n",
    "$statement  = \" mkdir $WORKINGDATAPATH/\" . $subj[$i] . \"/T1/ \";\n",
    "#print \"$statement \\n\";\n",
    "$statement  = \" mkdir $WORKINGDATAPATH/\" . $subj[$i] . \"/DTI/ \";\n",
    "#print \"$statement \\n\";\n",
    "$statement  = \" mkdir $WORKINGDATAPATH/\" . $subj[$i] . \"/DTI/data/ \";\n",
    "#print \"$statement \\n\";\n",
    "$statement  = \" mkdir $WORKINGDATAPATH/\" . $subj[$i] . \"/DTI/preprocess/ \";\n",
    "#print \"$statement \\n\";\n",
    "$statement  = \" mkdir $WORKINGDATAPATH/\" . $subj[$i] . \"/DTI/preprocess/5B0_PA/ \";\n",
    "#print \"$statement \\n\";\n",
    "$statement  = \" mkdir $WORKINGDATAPATH/\" . $subj[$i] . \"/DTI/preprocess/AP/ \";\n",
    "#print \"$statement \\n\";\n",
    "$statement  = \" mkdir $WORKINGDATAPATH/\" . $subj[$i] . \"/DTI/preprocess/AP_ADC/ \";\n",
    "#print \"$statement \\n\";\n",
    "$statement  = \" mkdir $WORKINGDATAPATH/\" . $subj[$i] . \"/DTI/preprocess/AP_FA/ \";\n",
    "#print \"$statement \\n\";\n",
    "$statement  = \" mkdir $WORKINGDATAPATH/\" . $subj[$i] . \"/DTI/preprocess/AP_TENSOR/ \";\n",
    "#print \"$statement \\n\";\n",
    "$statement  = \" mkdir $WORKINGDATAPATH/\" . $subj[$i] . \"/DTI/preprocess/AP_TRACEW/ \";\n",
    "#print \"$statement \\n\";\n",
    "\n",
    "# convert dicoms\n",
    "$statement  = \" dcm2nii -o $WORKINGDATAPATH/\" . $subj[$i] . \"/T1/ \";\n",
    "$statement .= \" $RAWDATAPATH/\" . $subjID[$i] . \"/t1*/ \";\n",
    "#print \"$statement \\n\";\n",
    "$statement  = \" dcm2nii -o $WORKINGDATAPATH/\" . $subj[$i] . \"/DTI/preprocess/5B0_PA/ \";\n",
    "$statement .= \" $RAWDATAPATH/\" . $subjID[$i] . \"/cmrr_mbep2d_diff_*5B0_PA*/ \";\n",
    "#print \"$statement \\n\";\n",
    "$statement  = \" dcm2nii -o $WORKINGDATAPATH/\" . $subj[$i] . \"/DTI/preprocess/AP/ \";\n",
    "$statement .= \" $RAWDATAPATH/\" . $subjID[$i] . \"/cmrr_mbep2d_diff_AP_[1-9]*/ \";\n",
    "#print \"$statement \\n\";\n",
    "$statement  = \" dcm2nii -o $WORKINGDATAPATH/\" . $subj[$i] . \"/DTI/preprocess/AP_ADC/ \";\n",
    "$statement .= \" $RAWDATAPATH/\" . $subjID[$i] . \"/cmrr_mbep2d_diff_AP_ADC_[1-9]*/ \";\n",
    "#print \"$statement \\n\";\n",
    "$statement  = \" dcm2nii -o $WORKINGDATAPATH/\" . $subj[$i] . \"/DTI/preprocess/AP_FA/ \";\n",
    "$statement .= \" $RAWDATAPATH/\" . $subjID[$i] . \"/cmrr_mbep2d_diff_AP_FA_[1-9]*/ \";\n",
    "#print \"$statement \\n\";\n",
    "$statement  = \" dcm2nii -o $WORKINGDATAPATH/\" . $subj[$i] . \"/DTI/preprocess/AP_TRACEW/ \";\n",
    "$statement .= \" $RAWDATAPATH/\" . $subjID[$i] . \"/cmrr_mbep2d_diff_AP_TRACEW_[1-9]*/ \";\n",
    "#print \"$statement \\n\";\n",
    "\n",
    "# rename files\n",
    "$statement  = \" mv $WORKINGDATAPATH/\" . $subj[$i] . \"/T1/co*.nii.gz \";\n",
    "$statement .= \" $WORKINGDATAPATH/\" . $subj[$i] . \"/T1/struc_raw.nii.gz \";\n",
    "#print \"$statement \\n\";\n",
    "$statement  = \" mv $WORKINGDATAPATH/\" . $subj[$i] . \"/DTI/preprocess/5B0_PA/*.nii.gz \";\n",
    "$statement .= \" $WORKINGDATAPATH/\" . $subj[$i] . \"/DTI/preprocess/5B0_PA/nodif_PA.nii.gz \";\n",
    "#print \"$statement \\n\";\n",
    "$statement  = \" mv $WORKINGDATAPATH/\" . $subj[$i] . \"/DTI/preprocess/5B0_PA/*.bval \";\n",
    "$statement .= \" $WORKINGDATAPATH/\" . $subj[$i] . \"/DTI/preprocess/5B0_PA/nodif_PA_bval \";\n",
    "#print \"$statement \\n\";\n",
    "$statement  = \" mv $WORKINGDATAPATH/\" . $subj[$i] . \"/DTI/preprocess/5B0_PA/*.bvec \";\n",
    "$statement .= \" $WORKINGDATAPATH/\" . $subj[$i] . \"/DTI/preprocess/5B0_PA/nodif_PA_bvec \";\n",
    "#print \"$statement \\n\";\n",
    "$statement  = \" mv $WORKINGDATAPATH/\" . $subj[$i] . \"/DTI/preprocess/AP/*.nii.gz \";\n",
    "$statement .= \" $WORKINGDATAPATH/\" . $subj[$i] . \"/DTI/preprocess/AP/data_AP.nii.gz \";\n",
    "#print \"$statement \\n\";\n",
    "$statement  = \" mv $WORKINGDATAPATH/\" . $subj[$i] . \"/DTI/preprocess/AP/*.bval \";\n",
    "$statement .= \" $WORKINGDATAPATH/\" . $subj[$i] . \"/DTI/preprocess/AP/data_AP_bval \";\n",
    "#print \"$statement \\n\";\n",
    "$statement  = \" mv $WORKINGDATAPATH/\" . $subj[$i] . \"/DTI/preprocess/AP/*.bvec \";\n",
    "$statement .= \" $WORKINGDATAPATH/\" . $subj[$i] . \"/DTI/preprocess/AP/data_AP_bvec \";\n",
    "#print \"$statement \\n\";\n",
    "$statement  = \" mv $WORKINGDATAPATH/\" . $subj[$i] . \"/DTI/preprocess/AP_ADC/*.nii.gz \";\n",
    "$statement .= \" $WORKINGDATAPATH/\" . $subj[$i] . \"/DTI/preprocess/AP_ADC/AP_ADC.nii.gz \";\n",
    "#print \"$statement \\n\";\n",
    "$statement  = \" mv $WORKINGDATAPATH/\" . $subj[$i] . \"/DTI/preprocess/AP_FA/*.nii.gz \";\n",
    "$statement .= \" $WORKINGDATAPATH/\" . $subj[$i] . \"/DTI/preprocess/AP_FA/AP_FA.nii.gz \";\n",
    "#print \"$statement \\n\";\n",
    "$statement  = \" mv $WORKINGDATAPATH/\" . $subj[$i] . \"/DTI/preprocess/AP_TRACEW/*.nii.gz \";\n",
    "$statement .= \" $WORKINGDATAPATH/\" . $subj[$i] . \"/DTI/preprocess/AP_TRACEW/AP_TRACEW.nii.gz \";\n",
    "#print \"$statement \\n\";\n",
    "$statement  = \" mv $WORKINGDATAPATH/\" . $subj[$i] . \"/DTI/preprocess/AP_TRACEW/*.bval \";\n",
    "$statement .= \" $WORKINGDATAPATH/\" . $subj[$i] . \"/DTI/preprocess/AP_TRACEW/AP_TRACEW_bval \";\n",
    "#print \"$statement \\n\";\n",
    "$statement  = \" mv $WORKINGDATAPATH/\" . $subj[$i] . \"/DTI/preprocess/AP_TRACEW/*.bvec \";\n",
    "$statement .= \" $WORKINGDATAPATH/\" . $subj[$i] . \"/DTI/preprocess/AP_TRACEW/AP_TRACEW_bvec \";\n",
    "#print \"$statement \\n\";\n",
    "\n",
    "# get AP avg b0\n",
    "$statement  = \" fslsplit $WORKINGDATAPATH/\" . $subj[$i] . \"/DTI/preprocess/AP/data_AP.nii.gz \";\n",
    "$statement .= \" $WORKINGDATAPATH/\" . $subj[$i] . \"/DTI/preprocess/AP/vol -t \";\n",
    "#print \"$statement \\n\";\n",
    "$statement  = \" fslmaths $WORKINGDATAPATH/\" . $subj[$i] . \"/DTI/preprocess/AP/vol0000.nii.gz \";\n",
    "$statement .= \" -add $WORKINGDATAPATH/\" . $subj[$i] . \"/DTI/preprocess/AP/vol0001.nii.gz \";\n",
    "$statement .= \" -add $WORKINGDATAPATH/\" . $subj[$i] . \"/DTI/preprocess/AP/vol0002.nii.gz \";\n",
    "$statement .= \" -add $WORKINGDATAPATH/\" . $subj[$i] . \"/DTI/preprocess/AP/vol0003.nii.gz \";\n",
    "$statement .= \" -add $WORKINGDATAPATH/\" . $subj[$i] . \"/DTI/preprocess/AP/vol0004.nii.gz \";\n",
    "$statement .= \" -add $WORKINGDATAPATH/\" . $subj[$i] . \"/DTI/preprocess/AP/vol0005.nii.gz \";\n",
    "$statement .= \" -add $WORKINGDATAPATH/\" . $subj[$i] . \"/DTI/preprocess/AP/vol0006.nii.gz \";\n",
    "$statement .= \" -div 7 $WORKINGDATAPATH/\" . $subj[$i] . \"/DTI/preprocess/AP/avg_b0_AP.nii.gz \";\n",
    "#print \"$statement \\n\";\n",
    "\n",
    "# get PA avg b0\n",
    "$statement  = \" fslsplit $WORKINGDATAPATH/\" . $subj[$i] . \"/DTI/preprocess/5B0_PA/nodif_PA.nii.gz \";\n",
    "$statement .= \" $WORKINGDATAPATH/\" . $subj[$i] . \"/DTI/preprocess/5B0_PA/vol -t \";\n",
    "#print \"$statement \\n\";\n",
    "$statement  = \" fslmaths $WORKINGDATAPATH/\" . $subj[$i] . \"/DTI/preprocess/5B0_PA/vol0000.nii.gz \";\n",
    "$statement .= \" -add $WORKINGDATAPATH/\" . $subj[$i] . \"/DTI/preprocess/5B0_PA/vol0001.nii.gz \";\n",
    "$statement .= \" -add $WORKINGDATAPATH/\" . $subj[$i] . \"/DTI/preprocess/5B0_PA/vol0002.nii.gz \";\n",
    "$statement .= \" -add $WORKINGDATAPATH/\" . $subj[$i] . \"/DTI/preprocess/5B0_PA/vol0003.nii.gz \";\n",
    "$statement .= \" -add $WORKINGDATAPATH/\" . $subj[$i] . \"/DTI/preprocess/5B0_PA/vol0004.nii.gz \";\n",
    "$statement .= \" -div 5 $WORKINGDATAPATH/\" .$subj[$i] . \"/DTI/preprocess/5B0_PA/avg_b0_PA.nii.gz \";\n",
    "#print \"$statement \\n\";\n",
    "\n",
    "# get AP dti\n",
    "$x=0;\n",
    "$statement  = \" fslmerge -t $WORKINGDATAPATH/\" . $subj[$i] . \"/DTI/preprocess/AP/dti_AP.nii.gz \";\n",
    "$statement .= \" $WORKINGDATAPATH/\" . $subj[$i] . \"/DTI/preprocess/AP/vol00\" . $vol[$x] . \".nii.gz \";\n",
    "for($x=1;$x<=$#vol;$x++)\t{\n",
    "$statement .= \" $WORKINGDATAPATH/\" . $subj[$i] . \"/DTI/preprocess/AP/vol00\" . $vol[$x] . \".nii.gz \";\n",
    "\t\t\t\t}\n",
    "#print \"$statement \\n\";\n",
    "$statement  = \" fslroi $WORKINGDATAPATH/\" . $subj[$i] . \"/DTI/preprocess/AP/dti_AP.nii.gz \";\n",
    "$statement .= \" $WORKINGDATAPATH/\" . $subj[$i] . \"/DTI/preprocess/AP/dti_AP_trim.nii.gz \";\n",
    "$statement .= \" 0 -1 0 -1 0 110 \";\n",
    "#print \"$statement \\n\"; # topup needs an even # of slices\n",
    "\n",
    "# make merged avg b0\n",
    "$statement  = \" fslmerge -t $WORKINGDATAPATH/\" .$subj[$i] . \"/DTI/preprocess/merged_b0_AP-PA.nii.gz \";\n",
    "$statement .= \" $WORKINGDATAPATH/\" . $subj[$i] . \"/DTI/preprocess/AP/avg_b0_AP.nii.gz \";\n",
    "$statement .= \" $WORKINGDATAPATH/\" .$subj[$i] . \"/DTI/preprocess/5B0_PA/avg_b0_PA.nii.gz \";\n",
    "#print \"$statement \\n\";\n",
    "$statement  = \" fslroi $WORKINGDATAPATH/\" .$subj[$i] . \"/DTI/preprocess/merged_b0_AP-PA.nii.gz \";\n",
    "$statement .= \" $WORKINGDATAPATH/\" .$subj[$i] . \"/DTI/preprocess/merged_b0_AP-PA_trim.nii.gz \";\n",
    "$statement .= \" 0 -1 0 -1 0 110 \";\n",
    "#print \"$statement \\n\";  # topup needs an even # of slices\n",
    "$statement  = \" fslmerge -t $WORKINGDATAPATH/\" .$subj[$i] . \"/DTI/preprocess/merged_b0_AP-PA_dti_trim.nii.gz \";\n",
    "$statement .= \" $WORKINGDATAPATH/\" .$subj[$i] . \"/DTI/preprocess/merged_b0_AP-PA_trim.nii.gz \";\n",
    "$statement .= \" $WORKINGDATAPATH/\" . $subj[$i] . \"/DTI/preprocess/AP/dti_AP_trim.nii.gz \";\n",
    "#print \"$statement \\n\";  # will be input for eddy\n",
    "\n",
    "# topup unwarping\n",
    "$statement  = \" topup \";\n",
    "$statement .= \" --imain=$WORKINGDATAPATH/\" .$subj[$i] . \"/DTI/preprocess/merged_b0_AP-PA_trim.nii.gz \";\n",
    "$statement .= \" --datain=$WORKINGDATAPATH/acq_params.txt \";\n",
    "$statement .= \" --config=/usr/share/fsl/5.0/etc/flirtsch/b02b0.cnf \";\n",
    "$statement .= \" --out=$WORKINGDATAPATH/\" .$subj[$i] . \"/DTI/preprocess/topup \";\n",
    "$statement .= \" --fout=$WORKINGDATAPATH/\" .$subj[$i] . \"/DTI/preprocess/topup_fieldmap \"; # can be used for FEAT\n",
    "$statement .= \" --iout=$WORKINGDATAPATH/\" .$subj[$i] . \"/DTI/preprocess/merged_b0_unwarped.nii.gz \";\n",
    "#print \"$statement \\n\";\n",
    "$statement  = \" applytopup \";\n",
    "$statement .= \" --method=jac \"; # because dti images are only acquired in AP direction; not merging AP+PA\n",
    "$statement .= \" --imain=$WORKINGDATAPATH/\" . $subj[$i] . \"/DTI/preprocess/AP/dti_AP_trim.nii.gz \";\n",
    "$statement .= \" --inindex=1 \"; # because in the merged_b0_AP-PA file used to drive topup, the AP data is first\n",
    "$statement .= \" --datain=$WORKINGDATAPATH/acq_params.txt \";\n",
    "$statement .= \" --topup=$WORKINGDATAPATH/\" .$subj[$i] . \"/DTI/preprocess/topup \";\n",
    "$statement .= \" --out=$WORKINGDATAPATH/\" .$subj[$i] . \"/DTI/preprocess/dti_unwarped.nii.gz \";\n",
    "#print \"$statement \\n\";\n",
    "\n",
    "# make data, nodif, and nodif_brain_mask\n",
    "$statement  = \" fslsplit $WORKINGDATAPATH/\" .$subj[$i] . \"/DTI/preprocess/merged_b0_unwarped.nii.gz \";\n",
    "$statement .= \" $WORKINGDATAPATH/\" .$subj[$i] . \"/DTI/preprocess/merged_b0_unwarped_vol -t \";\n",
    "#print \"$statement \\n\";\n",
    "$statement  = \" fslmaths $WORKINGDATAPATH/\" .$subj[$i] . \"/DTI/preprocess/merged_b0_unwarped_vol0000 \";\n",
    "$statement .= \" -add $WORKINGDATAPATH/\" .$subj[$i] . \"/DTI/preprocess/merged_b0_unwarped_vol0001 \";\n",
    "$statement .= \" -div 2 $WORKINGDATAPATH/\" .$subj[$i] . \"/DTI/data/nodif.nii.gz \";\n",
    "#print \"$statement \\n\";\n",
    "$statement  = \" bet $WORKINGDATAPATH/\" .$subj[$i] . \"/DTI/data/nodif.nii.gz \";\n",
    "$statement .= \" $WORKINGDATAPATH/\" .$subj[$i] . \"/DTI/data/nodif_brain \";\n",
    "$statement .= \" -m -f 0.3 -R\";\n",
    "#print \"$statement \\n\";\n",
    "$statement  = \" fast -B -g -t 2 -o $WORKINGDATAPATH/\" . $subj[$i] . \"/DTI/data/nodif_brain \";\n",
    "$statement .= \" $WORKINGDATAPATH/\" . $subj[$i] . \"/DTI/data/nodif_brain.nii.gz \";\n",
    "#print \"$statement \\n\";\n",
    "$statement  = \" mv $WORKINGDATAPATH/\" . $subj[$i] . \"/DTI/data/nodif_brain_seg_0.nii.gz \";\n",
    "$statement .= \" $WORKINGDATAPATH/\" . $subj[$i] . \"/DTI/data/nodif_brain_GM.nii.gz \";\n",
    "#print \"$statement \\n\";\n",
    "$statement  = \" mv $WORKINGDATAPATH/\" . $subj[$i] . \"/DTI/data/nodif_brain_seg_1.nii.gz \";\n",
    "$statement .= \" $WORKINGDATAPATH/\" . $subj[$i] . \"/DTI/data/nodif_brain_WM.nii.gz \";\n",
    "#print \"$statement \\n\";\n",
    "\n",
    "# eddy\n",
    "$statement  = \" eddy \";\n",
    "$statement .= \" --imain=$WORKINGDATAPATH/\" .$subj[$i] . \"/DTI/preprocess/merged_b0_AP-PA_dti_trim.nii.gz \";\n",
    "$statement .= \" --mask=$WORKINGDATAPATH/\" .$subj[$i] . \"/DTI/data/nodif_brain_mask.nii.gz \";\n",
    "$statement .= \" --index=$WORKINGDATAPATH/eddy_index.txt \";\n",
    "$statement .= \" --acqp=$WORKINGDATAPATH/acq_params.txt \";\n",
    "$statement .= \" --topup=$WORKINGDATAPATH/\" .$subj[$i] . \"/DTI/preprocess/topup \";\n",
    "$statement .= \" --bvecs=$WORKINGDATAPATH/eddy_bvecs \";\n",
    "$statement .= \" --bvals=$WORKINGDATAPATH/eddy_bvals \";\n",
    "$statement .= \" --out=$WORKINGDATAPATH/\" .$subj[$i] . \"/DTI/data/data_eddy \";\n",
    "#print \"$statement \\n\";\n",
    "$statement  = \" fslroi \";\n",
    "$statement .= \" $WORKINGDATAPATH/\" .$subj[$i] . \"/DTI/data/data_eddy.nii.gz \";\n",
    "$statement .= \" $WORKINGDATAPATH/\" .$subj[$i] . \"/DTI/data/nodif1.nii.gz \";\n",
    "$statement .= \" 0 1 \";\n",
    "#print \"$statement \\n\";\n",
    "$statement  = \" fslroi \";\n",
    "$statement .= \" $WORKINGDATAPATH/\" .$subj[$i] . \"/DTI/data/data_eddy.nii.gz \";\n",
    "$statement .= \" $WORKINGDATAPATH/\" .$subj[$i] . \"/DTI/data/nodif2.nii.gz \";\n",
    "$statement .= \" 1 1 \";\n",
    "#print \"$statement \\n\";\n",
    "$statement  = \" fslmaths $WORKINGDATAPATH/\" .$subj[$i] . \"/DTI/data/nodif1.nii.gz \";\n",
    "$statement .= \" -add $WORKINGDATAPATH/\" .$subj[$i] . \"/DTI/data/nodif2.nii.gz \";\n",
    "$statement .= \" -div 2 $WORKINGDATAPATH/\" .$subj[$i] . \"/DTI/data/nodif.nii.gz \";\n",
    "#print \"$statement \\n\";\n",
    "$statement  = \" fslroi \";\n",
    "$statement .= \" $WORKINGDATAPATH/\" .$subj[$i] . \"/DTI/data/data_eddy.nii.gz \";\n",
    "$statement .= \" $WORKINGDATAPATH/\" .$subj[$i] . \"/DTI/data/data_dti.nii.gz \";\n",
    "$statement .= \" 2 91 \";\n",
    "#print \"$statement \\n\";\n",
    "$statement  = \" fslmerge -t $WORKINGDATAPATH/\" .$subj[$i] . \"/DTI/data/data.nii.gz \";\n",
    "$statement .= \" $WORKINGDATAPATH/\" .$subj[$i] . \"/DTI/data/nodif.nii.gz \";\n",
    "$statement .= \" $WORKINGDATAPATH/\" .$subj[$i] . \"/DTI/data/data_dti.nii.gz \";\n",
    "#print \"$statement \\n\";\n",
    "\n",
    "# dtifit\n",
    "$statement  = \" dtifit \";\n",
    "$statement .= \" -k $WORKINGDATAPATH/\" .$subj[$i] . \"/DTI/data/data.nii.gz \";\n",
    "$statement .= \" -o $WORKINGDATAPATH/\" .$subj[$i] . \"/DTI/data/data \";\n",
    "$statement .= \" -m $WORKINGDATAPATH/\" .$subj[$i] . \"/DTI/data/nodif_brain_mask.nii.gz \";\n",
    "$statement .= \" -r $WORKINGDATAPATH/bvecs \"; \n",
    "$statement .= \" -b $WORKINGDATAPATH/bvals \";\n",
    "#print \"$statement \\n\";\n",
    "\n",
    "# bedpost\n",
    "$statement  = \" cp $WORKINGDATAPATH/bvecs \";\n",
    "$statement .= \" $WORKINGDATAPATH/\" .$subj[$i] . \"/DTI/data/bvecs \";\n",
    "#print \"$statement \\n\";\n",
    "$statement  = \" cp $WORKINGDATAPATH/bvals \";\n",
    "$statement .= \" $WORKINGDATAPATH/\" .$subj[$i] . \"/DTI/data/bvals \";\n",
    "#print \"$statement \\n\";\n",
    "$statement  = \" bedpostx $WORKINGDATAPATH/\" .$subj[$i] . \"/DTI/data/\";\n",
    "#print \"$statement \\n\";\n",
    "\n",
    "# T1 preprocessing\n",
    "$statement  = \" fslreorient2std $WORKINGDATAPATH/\" . $subj[$i] . \"/T1/struc_raw.nii.gz \";\n",
    "$statement .= \" $WORKINGDATAPATH/\" . $subj[$i] . \"/T1/struc_raw.nii.gz \";\n",
    "#print \"$statement \\n\";\n",
    "$statement  = \" bet $WORKINGDATAPATH/\" . $subj[$i] . \"/T1/struc_raw.nii.gz \";\n",
    "$statement .= \" $WORKINGDATAPATH/\" . $subj[$i] . \"/T1/struc_brain \";\n",
    "$statement .= \" -m -f 0.4 -g -0.1 -B \";\n",
    "#print \"$statement \\n\";\n",
    "$statement  = \" fast -B -g -o $WORKINGDATAPATH/\" . $subj[$i] . \"/T1/struc_brain \";\n",
    "$statement .= \" $WORKINGDATAPATH/\" . $subj[$i] . \"/T1/struc_brain.nii.gz \";\n",
    "#print \"$statement \\n\";\n",
    "$statement  = \" mv $WORKINGDATAPATH/\" . $subj[$i] . \"/T1/struc_brain_restore.nii.gz \";\n",
    "$statement .= \" $WORKINGDATAPATH/\" . $subj[$i] . \"/T1/struc_brain.nii.gz \";\n",
    "#print \"$statement \\n\";\n",
    "$statement  = \" mv $WORKINGDATAPATH/\" . $subj[$i] . \"/T1/struc_brain_seg_1.nii.gz \";\n",
    "$statement .= \" $WORKINGDATAPATH/\" . $subj[$i] . \"/T1/struc_brain_GM.nii.gz \";\n",
    "#print \"$statement \\n\";\n",
    "$statement  = \" mv $WORKINGDATAPATH/\" . $subj[$i] . \"/T1/struc_brain_seg_2.nii.gz \";\n",
    "$statement .= \" $WORKINGDATAPATH/\" . $subj[$i] . \"/T1/struc_brain_WM.nii.gz \";\n",
    "#print \"$statement \\n\";\n",
    "\n",
    "## REGISTRATION\n",
    "\n",
    "$statement  = \" mkdir $WORKINGDATAPATH/\" . $subj[$i] . \"/xfms/ \";\n",
    "#print \"$statement \\n\";\n",
    "\n",
    "$statement  = \" flirt -dof 12 -in $WORKINGDATAPATH/\" . $subj[$i] . \"/T1/struc_brain.nii.gz \";\n",
    "$statement .= \" -ref $WORKINGDATAPATH/MNI152_T1_1mm_brain.nii.gz \";\n",
    "$statement .= \" -omat $WORKINGDATAPATH/\" . $subj[$i] . \"/xfms/struc_12dof_MNI.mat \";\n",
    "#print \"$statement \\n\";\n",
    "\n",
    "$statement  = \" fnirt --in=$WORKINGDATAPATH/\" . $subj[$i] . \"/T1/struc_raw.nii.gz \";\n",
    "$statement .= \" --ref=$WORKINGDATAPATH/MNI152_T1_1mm.nii.gz \";\n",
    "$statement .= \" --aff=$WORKINGDATAPATH/\" . $subj[$i] . \"/xfms/struc_12dof_MNI.mat \";\n",
    "$statement .= \" --cout=$WORKINGDATAPATH/\" . $subj[$i] . \"/xfms/struc_warp_MNI_warpfield.nii.gz \";\n",
    "#print \"$statement \\n\";\n",
    "\n",
    "$statement  = \" applywarp --in=$WORKINGDATAPATH/\" . $subj[$i] . \"/T1/struc_brain.nii.gz \";\n",
    "$statement .= \" --ref=$WORKINGDATAPATH/MNI152_T1_1mm.nii.gz \";\n",
    "$statement .= \" --warp=$WORKINGDATAPATH/\" . $subj[$i] . \"/xfms/struc_warp_MNI_warpfield.nii.gz \";\n",
    "$statement .= \" --out=$WORKINGDATAPATH/\" . $subj[$i] . \"/T1/struc_2_MNI.nii.gz \";\n",
    "#print \"$statement \\n\";\n",
    "\n",
    "$statement  = \" invwarp --warp=$WORKINGDATAPATH/\" . $subj[$i] . \"/xfms/struc_warp_MNI_warpfield.nii.gz \";\n",
    "$statement .= \" --ref=$WORKINGDATAPATH/\" . $subj[$i] . \"/T1/struc_brain.nii.gz \";\n",
    "$statement .= \" --out=$WORKINGDATAPATH/\" . $subj[$i] . \"/xfms/MNI_warp_struc_warpfield.nii.gz \";\n",
    "#print \"$statement \\n\";\n",
    "\n",
    "$statement  = \" flirt -dof 12 -in $WORKINGDATAPATH/\" . $subj[$i] . \"/DTI/data/nodif_brain.nii.gz \";\n",
    "$statement .= \" -ref $WORKINGDATAPATH/\" . $subj[$i] . \"/T1/struc_brain.nii.gz \";\n",
    "$statement .= \" -omat $WORKINGDATAPATH/\" . $subj[$i] . \"/xfms/nodif_12dof_struc.mat \";\n",
    "#print \"$statement \\n\";\n",
    "\n",
    "$statement  = \" flirt -in $WORKINGDATAPATH/\" . $subj[$i] . \"/DTI/data/nodif_brain.nii.gz \";\n",
    "$statement .= \" -ref $WORKINGDATAPATH/\" . $subj[$i] . \"/T1/struc_brain.nii.gz \";\n",
    "$statement .= \" -applyxfm -init $WORKINGDATAPATH/\" . $subj[$i] . \"/xfms/nodif_12dof_struc.mat \";\n",
    "$statement .= \" -out $WORKINGDATAPATH/\" . $subj[$i] . \"/DTI/data/nodif_2_struc.nii.gz \";\n",
    "#print \"$statement \\n\";\n",
    "\n",
    "$statement  = \" applywarp --in=$WORKINGDATAPATH/\" . $subj[$i] . \"/DTI/data/nodif_brain.nii.gz \";\n",
    "$statement .= \" --ref=$WORKINGDATAPATH/MNI152_T1_1mm.nii.gz \";\n",
    "$statement .= \" --premat=$WORKINGDATAPATH/\" . $subj[$i] . \"/xfms/nodif_12dof_struc.mat \";\n",
    "$statement .= \" --warp=$WORKINGDATAPATH/\" . $subj[$i] . \"/xfms/struc_warp_MNI_warpfield.nii.gz \";\n",
    "$statement .= \" --out=$WORKINGDATAPATH/\" . $subj[$i] . \"/DTI/data/nodif_2_MNI.nii.gz \";\n",
    "#print \"$statement \\n\";\n",
    "\n",
    "$statement  = \" convert_xfm \";\n",
    "$statement .= \" -omat $WORKINGDATAPATH/\" . $subj[$i] . \"/xfms/struc_12dof_nodif.mat \";\n",
    "$statement .= \" -inverse $WORKINGDATAPATH/\" . $subj[$i] . \"/xfms/nodif_12dof_struc.mat \";\n",
    "#print \"$statement \\n\";\n",
    "\n",
    "$statement  = \" convertwarp \";\n",
    "$statement .= \" --ref=$WORKINGDATAPATH/MNI152_T1_1mm_brain.nii.gz \";\n",
    "$statement .= \" --premat=$WORKINGDATAPATH/\" . $subj[$i] . \"/xfms/nodif_12dof_struc.mat \";\n",
    "$statement .= \" --warp1=$WORKINGDATAPATH/\" . $subj[$i] . \"/xfms/struc_warp_MNI_warpfield.nii.gz \";\n",
    "$statement .= \" --out=$WORKINGDATAPATH/\" . $subj[$i] . \"/xfms/nodif_12dof_struc_warp_MNI_warpfield.nii.gz \";\n",
    "print \"$statement \\n\";\n",
    "\n",
    "$statement  = \" convertwarp \";\n",
    "$statement .= \" --ref=$WORKINGDATAPATH/\" . $subj[$i] . \"/DTI/data/nodif_brain_mask.nii.gz \";\n",
    "$statement .= \" --warp1=$WORKINGDATAPATH/\" . $subj[$i] . \"/xfms/MNI_warp_struc_warpfield.nii.gz \";\n",
    "$statement .= \" --postmat=$WORKINGDATAPATH/\" . $subj[$i] . \"/xfms/struc_12dof_nodif.mat \";\n",
    "$statement .= \" --out=$WORKINGDATAPATH/\" . $subj[$i] . \"/xfms/MNI_warp_struc_12dof_nodif_warpfield.nii.gz \";\n",
    "print \"$statement \\n\";\n",
    "\n",
    "$statement  = \" probtrackx2 --pd --onewaycondition --omatrix2 \";\n",
    "$statement .= \" -s $WORKINGDATAPATH/\" . $subj[$i] . \"/DTI/data.bedpostX/merged \"; \n",
    "$statement .= \" -m $WORKINGDATAPATH/\" . $subj[$i] . \"/DTI/data/nodif_brain_mask.nii.gz \";\n",
    "$statement .= \" -x $WORKINGDATAPATH/ROIs/Human_\" . $roi[$r] . \"_\" . $hemi[$h] . \".nii.gz \";\n",
    "$statement .= \" --target2=$WORKINGDATAPATH/MNI152_T1_1mm_brain_mask_downsample_2.nii.gz \";\n",
    "$statement .= \" -l -c 0.2 -S 2000 --steplength=0.5 -P 5000 --fibthresh=0.1 --randfib=0 \";  # check samples \n",
    "$statement .= \" --xfm=$WORKINGDATAPATH/\" . $subj[$i] . \"/xfms/MNI_warp_struc_12dof_nodif_warpfield.nii.gz \";\n",
    "$statement .= \" --invxfm=$WORKINGDATAPATH/\" . $subj[$i] . \"/xfms/nodif_12dof_struc_warp_MNI_warpfield.nii.gz \";\n",
    "$statement .= \" --forcedir --opd \";\n",
    "$statement .= \" --dir=$OUTPUTDATAPATH/\" . $subj[$i] . \"_\" . $roi[$r] . \"_\" . $hemi[$h] . \"_Segmentation  \";\n",
    "print \"$statement \\n\";\n",
    "\n",
    "}\n",
    "\n"
   ]
  }
 ],
 "metadata": {
  "kernelspec": {
   "display_name": "Python 2",
   "language": "python",
   "name": "python2"
  },
  "language_info": {
   "codemirror_mode": {
    "name": "ipython",
    "version": 2
   },
   "file_extension": ".py",
   "mimetype": "text/x-python",
   "name": "python",
   "nbconvert_exporter": "python",
   "pygments_lexer": "ipython2",
   "version": "2.7.12"
  }
 },
 "nbformat": 4,
 "nbformat_minor": 0
}
