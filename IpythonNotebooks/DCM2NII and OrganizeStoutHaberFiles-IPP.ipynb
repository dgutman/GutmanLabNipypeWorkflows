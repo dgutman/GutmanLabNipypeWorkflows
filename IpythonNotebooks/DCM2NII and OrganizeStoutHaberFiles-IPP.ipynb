{
 "cells": [
  {
   "cell_type": "code",
   "execution_count": 11,
   "metadata": {
    "collapsed": true
   },
   "outputs": [],
   "source": [
    "## Nipype Workflow for Erin's DTI Data\n",
    "### Rename and Reorganize  NIFTI Image Data set\n",
    "import os, sys\n",
    "from os.path import join as oj\n",
    "from glob import glob\n",
    "import shutil\n",
    "\n",
    "import nipype.pipeline.engine as pe\n",
    "import nipype.interfaces.utility as util\n",
    "import nipype.interfaces.io as nio\n",
    "from nipype.caching import Memory\n",
    "from nipype.interfaces.dcm2nii import Dcm2nii"
   ]
  },
  {
   "cell_type": "code",
   "execution_count": 12,
   "metadata": {
    "collapsed": false
   },
   "outputs": [],
   "source": [
    "from StoutSubjectDict import StoutSubjectIDMap\n",
    "import StoutData_ConvertRawData as scrd\n",
    "from pprint import pprint\n",
    "\n",
    "StoutRawData = '/home/ehecht/BIGDATA/Stout_Homo_Faber/RAWDATA/'\n",
    "RawNIIDir = '/EINSTEIN_BIGDATA/NIPYPE_WD/Stout_Haber/niiData_V4/'\n",
    "NiPypeOutputDir = '/EINSTEIN_BIGDATA/NIPYPE_WD/Stout_Haber/niPypePreProc/'\n",
    "mem = Memory(base_dir=NiPypeOutputDir)  ## Create a memory cache I can use going forward\n",
    "\n",
    "dcmConverter = mem.cache(Dcm2nii)\n"
   ]
  },
  {
   "cell_type": "code",
   "execution_count": 13,
   "metadata": {
    "collapsed": false
   },
   "outputs": [],
   "source": [
    "from ipyparallel import Client\n",
    "rc = Client()\n",
    "dview = rc[:]\n",
    "dview.block=False\n",
    "#!conda install ipyparallel --yes"
   ]
  },
  {
   "cell_type": "code",
   "execution_count": 14,
   "metadata": {
    "collapsed": false
   },
   "outputs": [
    {
     "data": {
      "text/plain": [
       "[0, 1, 2, 3, 4, 5, 6, 7]"
      ]
     },
     "execution_count": 14,
     "metadata": {},
     "output_type": "execute_result"
    }
   ],
   "source": [
    "dview.targets"
   ]
  },
  {
   "cell_type": "code",
   "execution_count": 6,
   "metadata": {
    "collapsed": false
   },
   "outputs": [
    {
     "name": "stdout",
     "output_type": "stream",
     "text": [
      "81 Scan Image Data Sets have been located\n"
     ]
    }
   ],
   "source": [
    "# reload( StoutSubjectDict)\n",
    "reload(scrd)\n",
    "\n",
    "### Zip up all the data so the subjID and folder are easier to keep track of\n",
    "scanImageData  = []\n",
    "for curScanSession in StoutSubjectIDMap:\n",
    "    curScanSession['dcmScanSet'] =  scrd.DicomScanSet\n",
    "    curScanSession['dcmRoot'] =  scrd.StoutRawData\n",
    "\n",
    "\n",
    "scanImageData = StoutSubjectIDMap    \n",
    "print len(scanImageData),'Scan Image Data Sets have been located'"
   ]
  },
  {
   "cell_type": "code",
   "execution_count": null,
   "metadata": {
    "collapsed": false
   },
   "outputs": [],
   "source": [
    "HomoFaberImageSessions = [] ### Null Array this will have the image sessions that have an actual Directory\n",
    "                            ### Helps me avoid typos\n",
    "UnknownImageSession = []\n",
    "\n",
    "MappedFolders = [x['folder'] for x in StoutSubjectIDMap]  ## I get this list from a module\n",
    "foldersToIgnore = ['test_BITC20141114','test_BITC20141118'] \n",
    "\n",
    "for ss in os.listdir(StoutRawData):\n",
    "    fullSubjDirPath =  oj(StoutRawData,ss)\n",
    "    if ss not in MappedFolders and ss not in foldersToIgnore:\n",
    "        #print \"Could not find %s in subject ID list\" % ss\n",
    "        UnknownImageSession.append(ss)\n",
    "    elif os.path.isdir(fullSubjDirPath):\n",
    "        HomoFaberImageSessions.append(ss)\n",
    "        \n",
    "# print len(HomoFaberImageSessions),\"Subjects to process\""
   ]
  },
  {
   "cell_type": "code",
   "execution_count": null,
   "metadata": {
    "collapsed": false
   },
   "outputs": [],
   "source": [
    "# from random import shuffle\n",
    "# shuffle(scanImageData)\n",
    "\n",
    "print len(UnknownImageSession)\n",
    "print len(StoutSubjectIDMap)\n",
    "for sf in UnknownImageSession:\n",
    "    pass\n",
    "    #print \"{'folder': '%s', 'scanID': ' ', 'sessionNum': ' '}\" % sf"
   ]
  },
  {
   "cell_type": "code",
   "execution_count": null,
   "metadata": {
    "collapsed": false
   },
   "outputs": [],
   "source": [
    "# for imgSessionDict in scanImageData:\n",
    "#     ### To make this work easier, I am passing a single dictionary with all the params I need\n",
    "#     ### it's very confusing how to pass more than one parameter at a time using the MAP function\n",
    "#     CheckCompleteDataSet(DicomScanSet, imgSessionDict,  StoutRawData,debug=False)"
   ]
  },
  {
   "cell_type": "code",
   "execution_count": null,
   "metadata": {
    "collapsed": false
   },
   "outputs": [],
   "source": [
    "print len(scanImageData)"
   ]
  },
  {
   "cell_type": "code",
   "execution_count": null,
   "metadata": {
    "collapsed": false
   },
   "outputs": [],
   "source": []
  },
  {
   "cell_type": "code",
   "execution_count": null,
   "metadata": {
    "collapsed": false
   },
   "outputs": [],
   "source": [
    "renamingDict = [ { 'inputDir': 'T1/co*.nii.gz', 'outputFileWPath': 'T1/struc_raw.nii.gz', 'fileType': 'T1'},\n",
    "                 { 'inputDir': 'DTI/preprocess/diff5B0_PA/*.nii.gz', 'outputFileWPath': 'DTI/preprocess/5B0_PA/nodif_PA.nii.gz', 'fileType': 'nodiff_PA'},\n",
    "                 { 'inputDir': 'DTI/preprocess/diff5B0_PA/*.bval', 'outputFileWPath': 'DTI/preprocess/5B0_PA/nodif_PA_bval', 'fileType': 'nodiff_PA_bval'},\n",
    "                 { 'inputDir': 'DTI/preprocess/diff5B0_PA/*.bvec', 'outputFileWPath': 'DTI/preprocess/5B0_PA/nodif_PA_bvec', 'fileType': 'nodiff_PA_bvec'},\n",
    "                 { 'inputDir': 'DTI/preprocess/AP/*.nii.gz', 'outputFileWPath': 'DTI/preprocess/AP/data_AP.nii.gz', 'fileType': 'data_AP'},\n",
    "                 { 'inputDir': 'DTI/preprocess/AP/*.bval', 'outputFileWPath': 'DTI/preprocess/AP/data_AP_bval', 'fileType': 'data_AP_bval'},\n",
    "                 { 'inputDir': 'DTI/preprocess/AP/*.bvec', 'outputFileWPath': 'DTI/preprocess/AP/data_AP_bvec', 'fileType': 'data_AP_bvec'},\n",
    "                ]\n",
    "\n",
    "CompleteNIISetDir = '/FEATURES/NiPypeWorkingData/StoutHaber/NII_Data_Complete'\n",
    "\n",
    "#print sorted(os.listdir(RawNIIDir))\n",
    "for ImgSession in sorted(os.listdir(RawNIIDir)):\n",
    "    print ImgSession,\n",
    "    ###I NEED TO DETERMINE IF A RawNIIDir contains all of the necessary files\n",
    "    foundCompleteSet = True\n",
    "    for ftrD in renamingDict: #file to rename Dictionary\n",
    "        g= glob( oj( RawNIIDir, ImgSession, ftrD['inputDir']))\n",
    "        if len(g) != 1:\n",
    "            foundCompleteSet = False\n",
    "            print \"No Match\", ftrD['inputDir']\n",
    "    if foundCompleteSet:\n",
    "        print \"***COMPLETE***\"\n",
    "        moveCompleteDataSet( ImgSession, CompleteNIISetDir)\n",
    "    else:\n",
    "        print \"XXX INCOMPLETE XXX\"\n"
   ]
  },
  {
   "cell_type": "code",
   "execution_count": 7,
   "metadata": {
    "collapsed": false
   },
   "outputs": [],
   "source": [
    "#def CheckCompleteDataSet( dataSetDict, imageSessionDict, dcmRootDir, debug=False):\n",
    "@dview.parallel(block=False)    \n",
    "def CheckCompleteDataSet( processingInfoDict):\n",
    "    \n",
    "    \"\"\"This expects a dictionary which has the primary key as the image type, that then yields another\n",
    "    dictionary of the dcmDir and outputDirName that should be associated with the input type, see example\n",
    "    above\"\"\"\n",
    "    debug=False\n",
    "    pid = processingInfoDict  ## made an alias\n",
    "    \n",
    "    foundCompleteDCMSet = True\n",
    "    if debug: print \"looking for files for %s \" %  pid['folder']\n",
    "    ### I will still try and convert incomplete sets, at least for now\n",
    "    \n",
    "    for imageType in pid['dcmScanSet']:\n",
    "        if debug: print \"looking for %s\" % imageType\n",
    "        dcmDirPath = oj(pid['dcmRoot'], pid['folder'],pid['dcmScanSet'][imageType]['dcmDir']) ### There should be only one of these\n",
    "        imgDcmDir =  glob(dcmDirPath)\n",
    "        if len(imgDcmDir) > 1: \n",
    "            print \"Found more than one matching directory\"\n",
    "            print imgDcmDir\n",
    "            #sys.exit\n",
    "        elif len(imgDcmDir) == 0:\n",
    "            print \"Not a complete set\",dcmDirPath\n",
    "            foundCompleteDCMSet = False\n",
    "        else:\n",
    "            #### This means I found one and only 1 match, so I will not convert it's contents and then move the output\n",
    "\n",
    "            \n",
    "            NIIOutputDir = oj( RawNIIDir, pid['scanID'], pid['dcmScanSet'][imageType]['outputDirName'])\n",
    "                        ### If the target directory already exists It means I already did this one so scan skip\n",
    "            if not os.path.isdir(NIIOutputDir):\n",
    "                generateNIIData( imgDcmDir[0], imageType,  NIIOutputDir,debug=True)\n"
   ]
  },
  {
   "cell_type": "code",
   "execution_count": null,
   "metadata": {
    "collapsed": false
   },
   "outputs": [],
   "source": [
    "\n",
    "def moveCompleteDataSet( ImgSessionName, TargetDir, overWriteExisting=False):\n",
    "    \"\"\"Once I know I have a complete set of NII images, I am going to move them to a target directory for further processing\"\"\"\n",
    "#     print ImgSessionName,\"Needs to be moved\"\n",
    "    ## Walk the renaming dict and move the appropriate files\n",
    "    for ftrD in renamingDict: #file to rename Dictionary\n",
    "        inputFile = glob( oj( RawNIIDir, ImgSession, ftrD['inputDir']))[0]\n",
    "        TargetFileNameWPath=  oj( TargetDir, ImgSessionName, ftrD['outputFileWPath'])\n",
    "#         print inputFile,TargetFileNameWPath\n",
    "        tgtDir = os.path.dirname(TargetFileNameWPath)\n",
    "        if not os.path.isdir(tgtDir):\n",
    "            os.makedirs(tgtDir)\n",
    "        if not os.path.isfile(TargetFileNameWPath):\n",
    "            shutil.copy(inputFile,TargetFileNameWPath)\n",
    "            \n",
    "        \n"
   ]
  },
  {
   "cell_type": "code",
   "execution_count": 10,
   "metadata": {
    "collapsed": false
   },
   "outputs": [
    {
     "name": "stdout",
     "output_type": "stream",
     "text": [
      "81\n"
     ]
    }
   ],
   "source": [
    "print len(scanImageData)\n",
    "\n",
    "#print scanImageData[2]\n",
    "JobStatus = CheckCompleteDataSet.map(scanImageData)"
   ]
  },
  {
   "cell_type": "code",
   "execution_count": null,
   "metadata": {
    "collapsed": true
   },
   "outputs": [],
   "source": [
    "               \n",
    "# $statement  = \" mv $WORKINGDATAPATH/\" . $subj[$i] . \"/DTI/preprocess/AP_ADC/*.nii.gz \";\n",
    "# $statement .= \" $WORKINGDATAPATH/\" . $subj[$i] . \"/DTI/preprocess/AP_ADC/AP_ADC.nii.gz \";\n",
    "# #print \"$statement \\n\";\n",
    "# $statement  = \" mv $WORKINGDATAPATH/\" . $subj[$i] . \"/DTI/preprocess/AP_FA/*.nii.gz \";\n",
    "# $statement .= \" $WORKINGDATAPATH/\" . $subj[$i] . \"/DTI/preprocess/AP_FA/AP_FA.nii.gz \";\n",
    "\n"
   ]
  },
  {
   "cell_type": "code",
   "execution_count": null,
   "metadata": {
    "collapsed": false
   },
   "outputs": [],
   "source": [
    "JobStatus.result()"
   ]
  },
  {
   "cell_type": "code",
   "execution_count": null,
   "metadata": {
    "collapsed": false
   },
   "outputs": [],
   "source": [
    "print scanImageData"
   ]
  },
  {
   "cell_type": "code",
   "execution_count": null,
   "metadata": {
    "collapsed": true
   },
   "outputs": [],
   "source": [
    "\n",
    "# #print \"$statement \\n\";\n",
    "# $statement  = \" mv $WORKINGDATAPATH/\" . $subj[$i] . \"/DTI/preprocess/AP_TRACEW/*.nii.gz \";\n",
    "# $statement .= \" $WORKINGDATAPATH/\" . $subj[$i] . \"/DTI/preprocess/AP_TRACEW/AP_TRACEW.nii.gz \";\n",
    "# #print \"$statement \\n\";\n",
    "# $statement  = \" mv $WORKINGDATAPATH/\" . $subj[$i] . \"/DTI/preprocess/AP_TRACEW/*.bval \";\n",
    "# $statement .= \" $WORKINGDATAPATH/\" . $subj[$i] . \"/DTI/preprocess/AP_TRACEW/AP_TRACEW_bval \";\n",
    "# #print \"$statement \\n\";\n",
    "# $statement  = \" mv $WORKINGDATAPATH/\" . $subj[$i] . \"/DTI/preprocess/AP_TRACEW/*.bvec \";\n",
    "# $statement .= \" $WORKINGDATAPATH/\" . $subj[$i] . \"/DTI/preprocess/AP_TRACEW/AP_TRACEW_bvec \";\n",
    "# #print \"$statement \\n\";"
   ]
  },
  {
   "cell_type": "code",
   "execution_count": null,
   "metadata": {
    "collapsed": false
   },
   "outputs": [],
   "source": [
    "JobStatus.running()"
   ]
  },
  {
   "cell_type": "code",
   "execution_count": 9,
   "metadata": {
    "collapsed": false
   },
   "outputs": [
    {
     "name": "stdout",
     "output_type": "stream",
     "text": [
      "[stdout:0] /home/dgutman/devel/GutmanLabNipypeWorkflows/IpythonNotebooks\n",
      "[stdout:1] /home/dgutman/devel/GutmanLabNipypeWorkflows/IpythonNotebooks\n",
      "[stdout:2] /home/dgutman/devel/GutmanLabNipypeWorkflows/IpythonNotebooks\n",
      "[stdout:3] /home/dgutman/devel/GutmanLabNipypeWorkflows/IpythonNotebooks\n",
      "[stdout:4] /home/dgutman/devel/GutmanLabNipypeWorkflows/IpythonNotebooks\n",
      "[stdout:5] /home/dgutman/devel/GutmanLabNipypeWorkflows/IpythonNotebooks\n",
      "[stdout:6] /home/dgutman/devel/GutmanLabNipypeWorkflows/IpythonNotebooks\n",
      "[stdout:7] /home/dgutman/devel/GutmanLabNipypeWorkflows/IpythonNotebooks\n"
     ]
    }
   ],
   "source": [
    "%px from os.path import join as oj\n",
    "%px import numpy \n",
    "%px cd /home/dgutman/devel/GutmanLabNipypeWorkflows/IpythonNotebooks\n",
    "\n",
    "%px from StoutData_ConvertRawData import generateNIIData\n",
    "%px from glob import glob\n",
    "%px RawNIIDir = '/EINSTEIN_BIGDATA/NIPYPE_WD/Stout_Haber/niiData_V4'\n",
    "%px import os\n"
   ]
  },
  {
   "cell_type": "code",
   "execution_count": null,
   "metadata": {
    "collapsed": true
   },
   "outputs": [],
   "source": []
  }
 ],
 "metadata": {
  "kernelspec": {
   "display_name": "Python 2",
   "language": "python",
   "name": "python2"
  },
  "language_info": {
   "codemirror_mode": {
    "name": "ipython",
    "version": 2
   },
   "file_extension": ".py",
   "mimetype": "text/x-python",
   "name": "python",
   "nbconvert_exporter": "python",
   "pygments_lexer": "ipython2",
   "version": "2.7.12"
  }
 },
 "nbformat": 4,
 "nbformat_minor": 0
}
