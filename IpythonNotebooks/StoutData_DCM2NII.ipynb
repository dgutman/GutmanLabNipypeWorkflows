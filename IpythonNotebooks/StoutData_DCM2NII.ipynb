{
 "cells": [
  {
   "cell_type": "code",
   "execution_count": 1,
   "metadata": {
    "collapsed": false
   },
   "outputs": [],
   "source": [
    "### Convert RAW DICOM data to NIFTI Image Data set\n",
    "import os, sys\n",
    "from os.path import join as oj\n"
   ]
  },
  {
   "cell_type": "code",
   "execution_count": 2,
   "metadata": {
    "collapsed": true
   },
   "outputs": [],
   "source": [
    "import nipype.pipeline.engine as pe\n",
    "import nipype.interfaces.utility as util\n",
    "import nipype.interfaces.io as nio\n",
    "from nipype.interfaces.dcm2nii import Dcm2nii"
   ]
  },
  {
   "cell_type": "code",
   "execution_count": 3,
   "metadata": {
    "collapsed": true
   },
   "outputs": [],
   "source": [
    "## This is the location of the Raw DICOM Files from BITC\n",
    "StoutRawData = '/home/ehecht/BIGDATA/Stout_Homo_Faber/RAWDATA'\n",
    "NiPypeOutputDir ='/EINSTEIN_BIGDATA/NIPYPE_WD/Stout_Haber/'\n"
   ]
  },
  {
   "cell_type": "code",
   "execution_count": null,
   "metadata": {
    "collapsed": false
   },
   "outputs": [],
   "source": [
    "## Figure out which directories I want to run through the preprocessing pipeline\n",
    "HomoFaberImageSessions = [ x for x in os.listdir(StoutRawData) if x.startswith('HOMO-')]\n",
    "\n",
    "print len(HomoFaberImageSessions),\"Image Sets Found for HomoFaber\""
   ]
  },
  {
   "cell_type": "code",
   "execution_count": null,
   "metadata": {
    "collapsed": false
   },
   "outputs": [],
   "source": [
    "stoutDCM2NII_wf = pe.Workflow('stoutDCM2NII_wf') ## Initialize the workflow\n",
    "stoutDCM2NII_wf.base_dir = NiPypeOutputDir  ## Tell it where to dump the results of the workflow\n",
    "\n",
    "### Create the list of Subjects to Process\n",
    "imageSession_Id_InfoSrc  = pe.Node(util.IdentityInterface(fields=['imageSessionName']),name='imageSession_Id_InfoSrc')\n",
    "imageSession_Id_InfoSrc.iterables = ('imageSessionName', HomoFaberImageSessions)"
   ]
  },
  {
   "cell_type": "code",
   "execution_count": null,
   "metadata": {
    "collapsed": true
   },
   "outputs": [],
   "source": [
    "## Create a datasource.. this basically helps me find the individual image files and data sets for an image session\n",
    "## a single image directory likely consists of DTI data, T2 images, T1 images, etc, etc\n",
    "datasource = pe.Node(interface=nio.DataGrabber(infields=['imageSessionName'], outfields=['t1Mprage_dir']), name='datasource')\n",
    "datasource.inputs.base_directory = StoutRawData\n",
    "datasource.inputs.template = '%s/t1_mprage_sag_*'\n",
    "datasource.inputs.template_args = dict( t1Mprage_dir=[['imageSessionName']])"
   ]
  },
  {
   "cell_type": "code",
   "execution_count": null,
   "metadata": {
    "collapsed": true
   },
   "outputs": [],
   "source": [
    "## Now create a node for the dicom converter!\n",
    "dcmConvert = pe.Node(interface=Dcm2nii(),name='dcmConvert')\n",
    "dcmConvert.inputs.gzip_output = False\n",
    "dcmConvert.inputs.reorient = False\n",
    "dcmConvert.inputs.reorient_and_crop = False"
   ]
  },
  {
   "cell_type": "code",
   "execution_count": null,
   "metadata": {
    "collapsed": false
   },
   "outputs": [],
   "source": [
    "stoutDCM2NII_wf.connect(imageSession_Id_InfoSrc, 'imageSessionName', datasource, 'imageSessionName')\n",
    "stoutDCM2NII_wf.connect(datasource,'t1Mprage_dir', dcmConvert, 'source_dir' )\n",
    "\n"
   ]
  },
  {
   "cell_type": "code",
   "execution_count": null,
   "metadata": {
    "collapsed": false
   },
   "outputs": [],
   "source": [
    "converter.run()"
   ]
  },
  {
   "cell_type": "code",
   "execution_count": null,
   "metadata": {
    "collapsed": true
   },
   "outputs": [],
   "source": []
  }
 ],
 "metadata": {
  "kernelspec": {
   "display_name": "Python 2",
   "language": "python",
   "name": "python2"
  },
  "language_info": {
   "codemirror_mode": {
    "name": "ipython",
    "version": 2
   },
   "file_extension": ".py",
   "mimetype": "text/x-python",
   "name": "python",
   "nbconvert_exporter": "python",
   "pygments_lexer": "ipython2",
   "version": "2.7.12"
  }
 },
 "nbformat": 4,
 "nbformat_minor": 0
}
