{
 "cells": [
  {
   "cell_type": "code",
   "execution_count": 1,
   "metadata": {},
   "outputs": [],
   "source": [
    "# Install dependencies for this example\n",
    "# Note: This does not include itk-jupyter-widgets, itself\n",
    "import sys\n",
    "import itk\n",
    "from itkwidgets import view as ITKview\n",
    "import os,glob\n",
    "import ipywidgets as widgets\n",
    "from ipywidgets import interact"
   ]
  },
  {
   "cell_type": "code",
   "execution_count": 2,
   "metadata": {},
   "outputs": [
    {
     "name": "stdout",
     "output_type": "stream",
     "text": [
      "899\n"
     ]
    }
   ],
   "source": [
    "# Download data\n",
    "subjRootDir = '/data/HCP_Data/HCP_BedpostData/'\n",
    "\n",
    "subjList = [x for x in os.listdir(subjRootDir) if os.path.isdir(subjRootDir+x)]\n",
    "print(len(subjList))\n",
    "T1image  = '/data/HCP_Data/HCP_BedpostData/%s/T1w/T1w_acpc_dc.nii.gz'"
   ]
  },
  {
   "cell_type": "code",
   "execution_count": 9,
   "metadata": {},
   "outputs": [
    {
     "data": {
      "application/vnd.jupyter.widget-view+json": {
       "model_id": "c5ddca4fc80c48a699c8b6207f194fcb",
       "version_major": 2,
       "version_minor": 0
      },
      "text/plain": [
       "interactive(children=(Dropdown(description='filename', options=('100206', '100307', '101006', '101410', '10251…"
      ]
     },
     "metadata": {},
     "output_type": "display_data"
    }
   ],
   "source": [
    "@interact(filename=subjList)\n",
    "def renderITKImage( filename=myWidget):\n",
    "    fileToLoad = T1image%filename\n",
    "    image = itk.imread(fileToLoad)\n",
    "    ITKview(image)\n",
    "\n"
   ]
  },
  {
   "cell_type": "code",
   "execution_count": 14,
   "metadata": {},
   "outputs": [
    {
     "data": {
      "application/vnd.jupyter.widget-view+json": {
       "model_id": "ef7818139f82486c934b41645192edf2",
       "version_major": 2,
       "version_minor": 0
      },
      "text/plain": [
       "Viewer(image=<itkImagePython.itkImageF3; proxy of <Swig Object of type 'itkImageF3 *' at 0x7f6972bf3a20> >)"
      ]
     },
     "metadata": {},
     "output_type": "display_data"
    }
   ],
   "source": [
    "import random\n",
    "r = random.randint(0,100)\n",
    "fileToLoad = T1image%subjList[r]\n",
    "image = itk.imread(fileToLoad)\n",
    "ITKview(image)\n",
    "\n",
    "\n"
   ]
  },
  {
   "cell_type": "code",
   "execution_count": 10,
   "metadata": {},
   "outputs": [],
   "source": [
    "# ITKview('/data/HCP_Data/HCP_BedpostData/100307/T1w/T1w_acpc_dc.nii.gz')"
   ]
  }
 ],
 "metadata": {
  "kernelspec": {
   "display_name": "Python [conda root]",
   "language": "python",
   "name": "conda-root-py"
  },
  "language_info": {
   "codemirror_mode": {
    "name": "ipython",
    "version": 3
   },
   "file_extension": ".py",
   "mimetype": "text/x-python",
   "name": "python",
   "nbconvert_exporter": "python",
   "pygments_lexer": "ipython3",
   "version": "3.6.3"
  }
 },
 "nbformat": 4,
 "nbformat_minor": 2
}
