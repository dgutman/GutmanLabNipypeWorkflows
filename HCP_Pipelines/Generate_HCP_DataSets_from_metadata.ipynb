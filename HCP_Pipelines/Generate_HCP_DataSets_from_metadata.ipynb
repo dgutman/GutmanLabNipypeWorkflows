{
 "cells": [
  {
   "cell_type": "code",
   "execution_count": 1,
   "metadata": {},
   "outputs": [],
   "source": [
    "## Badly titled script that will grab subjects using their metadata for randomise\n",
    "import pandas as pd\n",
    "import glob, os, sys\n",
    "from nipype.interfaces.fsl import Merge\n",
    "import shutil\n",
    "\n",
    "metaDataFile = './hcp_subject_data_9_12_2018.csv'\n",
    "nipypeResultsDir = '/data/HCP_Data/NipypeScratch/threshAndWarpPBX/'"
   ]
  },
  {
   "cell_type": "code",
   "execution_count": 2,
   "metadata": {},
   "outputs": [],
   "source": [
    "subjList = [x.replace('_subject_id_','') for x in os.listdir(nipypeResultsDir)]\n",
    "metadata= pd.read_csv(metaDataFile,header=0,index_col='Subject')\n",
    "# metadata_group= finalmetadata.groupby(by=group)\n",
    "# metadata_feature= list( metadata_group.get_group(feature)['FDT_Paths'] )"
   ]
  },
  {
   "cell_type": "code",
   "execution_count": null,
   "metadata": {},
   "outputs": [],
   "source": []
  },
  {
   "cell_type": "code",
   "execution_count": 3,
   "metadata": {},
   "outputs": [],
   "source": [
    "subjTractResults = {'M':[],'F':[]}  ### Going to create a separate one for M and Female, shuffle.. then win!\n",
    "\n",
    "missingTractography = []\n",
    "Tscale = 1000\n",
    "roiName = \"Hypothalamus_Bilat\"\n",
    "\n",
    "for s in subjList:\n",
    "    d= os.path.join( nipypeResultsDir,'_subject_id_%s' % s,  \"_roiName_%s\" % roiName, '_Tscaling_%d' % Tscale, 'warp_pbxDti_to_Mni'  )\n",
    "    HBF = glob.glob(d+\"/Human_%s*.nii.gz\"%roiName)  ### Assume and/or better only be one file\n",
    "\n",
    "    if len(HBF)==1:\n",
    "        gender = metadata.loc[int(s)]['Gender']\n",
    "        subjTractResults[gender].append(HBF[0])\n",
    "    else:\n",
    "        missingTractography.append(s)"
   ]
  },
  {
   "cell_type": "code",
   "execution_count": 4,
   "metadata": {},
   "outputs": [
    {
     "name": "stdout",
     "output_type": "stream",
     "text": [
      "535 464\n"
     ]
    },
    {
     "data": {
      "text/plain": [
       "'/data/Scripts/GutmanLabNipypeWorkflows/GenderDiff_Example/50v50_20181109/Human_Basal_Forebrain_M_50.nii.gz'"
      ]
     },
     "execution_count": 4,
     "metadata": {},
     "output_type": "execute_result"
    }
   ],
   "source": [
    "print( len(subjTractResults['F']),len(subjTractResults['M']))\n",
    "\n",
    "fslMerger = Merge()\n",
    "fslMerger.inputs.dimension = 't'\n",
    "fslMerger.inputs.output_type = 'NIFTI_GZ'\n",
    "\n",
    "subjsPerGroup = 50\n",
    "outputDir = \"/data/Scripts/GutmanLabNipypeWorkflows/GenderDiff_Example/\"\n",
    "outputDir +=\"50v50_20181109\"\n",
    "\n",
    "\n",
    "if not os.path.isdir(outputDir):\n",
    "    os.makedirs(outputDir)\n",
    "\n",
    "### Generate Female group\n",
    "fslMerger.inputs.in_files = subjTractResults['F'][:subjsPerGroup]\n",
    "results = fslMerger.run()\n",
    "mergedFileName = \"Human_Basal_Forebrain_%s_%d.nii.gz\" % ('F',subjsPerGroup)\n",
    "shutil.copy(results.outputs.merged_file, os.path.join(outputDir,mergedFileName))\n",
    "\n",
    "fslMerger.inputs.in_files = subjTractResults['M'][:subjsPerGroup]\n",
    "results = fslMerger.run()\n",
    "mergedFileName = \"Human_Basal_Forebrain_%s_%d.nii.gz\" % ('M',subjsPerGroup)\n",
    "shutil.copy(results.outputs.merged_file, os.path.join(outputDir,mergedFileName))"
   ]
  },
  {
   "cell_type": "code",
   "execution_count": null,
   "metadata": {},
   "outputs": [],
   "source": [
    "### WORK ON THE VIEWER TO GENERATE THE ROI PROBABLITY MAPS FOR EACH SUBJECT"
   ]
  },
  {
   "cell_type": "code",
   "execution_count": 6,
   "metadata": {},
   "outputs": [
    {
     "data": {
      "text/plain": [
       "'/data/Scripts/GutmanLabNipypeWorkflows/GenderDiff_Example/50v50_20181109'"
      ]
     },
     "execution_count": 6,
     "metadata": {},
     "output_type": "execute_result"
    }
   ],
   "source": []
  },
  {
   "cell_type": "code",
   "execution_count": 8,
   "metadata": {},
   "outputs": [],
   "source": [
    "opd = outputDir\n",
    "\n",
    "#\"/data//Scripts/GutmanLabNipypeWorkflows/GenderDiff_Example/50v50_20181019/\"\n",
    "\n",
    "mergeFile = opd + \"/HBF_50.nii.gz\"\n",
    "femaleFile = opd + \"/Human_Basal_Forebrain_F_50.nii.gz\"\n",
    "maleFile = opd+ \"/Human_Basal_Forebrain_M_50.nii.gz\"\n",
    "\n",
    "! fslmerge -t {mergeFile} {maleFile} {femaleFile}"
   ]
  },
  {
   "cell_type": "code",
   "execution_count": 9,
   "metadata": {},
   "outputs": [
    {
     "name": "stdout",
     "output_type": "stream",
     "text": [
      "/data/Scripts/GutmanLabNipypeWorkflows/HCP_Pipelines\r\n"
     ]
    }
   ],
   "source": [
    "opd = outputDir + \"/\"\n",
    "contrastName = \"HBF_50_Cohort1\"\n",
    "\n",
    "!pwd\n",
    "! design_ttest2 {opd}HBF_50_Cohort1 50 50"
   ]
  },
  {
   "cell_type": "code",
   "execution_count": 10,
   "metadata": {},
   "outputs": [
    {
     "name": "stdout",
     "output_type": "stream",
     "text": [
      "\n",
      "export FSLCLUSTER_DEFAULT_QUEUE=bigmem.q\n",
      "export REQUESTED_TIME=1200\n",
      "randomise_parallel -i %s -o %s -d %s.mat -t %s.con -n 5000 -T -R\n",
      "\n"
     ]
    }
   ],
   "source": [
    "from os.path import join as oj\n",
    "\n",
    "randoScript = \"\"\"\n",
    "export FSLCLUSTER_DEFAULT_QUEUE=bigmem.q\n",
    "export REQUESTED_TIME=1200\n",
    "randomise_parallel -i %s -o %s -d %s.mat -t %s.con -n 5000 -T -R\n",
    "\"\"\"\n",
    "\n",
    "print(randoScript )\n",
    "\n",
    "with open(oj(opd,\"randoParallelSyntax.sh\"),\"w\") as fp:\n",
    "    fp.write(randoScript%( os.path.basename(mergeFile),contrastName+\"_r5000\",contrastName,contrastName))\n",
    "## Copy the results to the output directory"
   ]
  },
  {
   "cell_type": "code",
   "execution_count": null,
   "metadata": {},
   "outputs": [],
   "source": [
    "results.outputs"
   ]
  },
  {
   "cell_type": "code",
   "execution_count": null,
   "metadata": {},
   "outputs": [],
   "source": [
    "Tscale = 5000 # 50 100 500 1000 5000\n",
    "subj = subjList[20]\n",
    "\n",
    "d= os.path.join( nipypeResultsDir,'_subject_id_%s' % subj,  '_Tscaling_%d' % Tscale, 'warp_pbxDti_to_Mni'  )\n",
    "HBF = glob.glob(d+\"/Human_Bas*.nii.gz\")\n",
    "##'Human_BasalForebrain_Left_fdt_paths_thresh_maths_wimt.nii.gz',\n",
    "d,HBF"
   ]
  }
 ],
 "metadata": {
  "kernelspec": {
   "display_name": "Python [conda root]",
   "language": "python",
   "name": "conda-root-py"
  },
  "language_info": {
   "codemirror_mode": {
    "name": "ipython",
    "version": 3
   },
   "file_extension": ".py",
   "mimetype": "text/x-python",
   "name": "python",
   "nbconvert_exporter": "python",
   "pygments_lexer": "ipython3",
   "version": "3.6.3"
  }
 },
 "nbformat": 4,
 "nbformat_minor": 2
}
