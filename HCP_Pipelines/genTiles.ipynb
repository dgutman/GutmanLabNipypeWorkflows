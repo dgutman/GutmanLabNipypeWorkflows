{
 "cells": [
  {
   "cell_type": "code",
   "execution_count": 2,
   "metadata": {},
   "outputs": [
    {
     "name": "stdout",
     "output_type": "stream",
     "text": [
      "Login or email: admin\n",
      "Password for admin: ········\n"
     ]
    }
   ],
   "source": [
    "import girder_client\n",
    "\n",
    "\n",
    "gc  = girder_client.GirderClient(apiUrl=\"http://candygram.neurology.emory.edu:8080/api/v1\")\n",
    "\n",
    "gc.authenticate(interactive=True)\n",
    "\n",
    "folderID = '5b7714b6e62914001abc1dc2'"
   ]
  },
  {
   "cell_type": "code",
   "execution_count": 7,
   "metadata": {},
   "outputs": [],
   "source": [
    "\n",
    "\n",
    "itemList = gc.get('resource/%s/items?type=folder&limit=1000' % folderID)\n",
    "\n",
    "#http://candygram.neurology.emory.edu:8080/api/v1/resource/5b7714b6e62914001abc1dc2/items?type=folder&limit=500&sort=_id&sortdir=1\n"
   ]
  },
  {
   "cell_type": "code",
   "execution_count": 12,
   "metadata": {},
   "outputs": [],
   "source": [
    "adultFolder = '5b7714bee62914001abc1dc3'\n",
    "\n",
    "\n",
    "adultItemList = gc.get('resource/%s/items?type=folder&limit=1000' % adultFolder)\n"
   ]
  },
  {
   "cell_type": "code",
   "execution_count": 14,
   "metadata": {},
   "outputs": [
    {
     "name": "stdout",
     "output_type": "stream",
     "text": [
      "{'_id': '5b7714d0e62914001abc1dc5', 'baseParentId': '5b7714a9e62914001abc1dc1', 'baseParentType': 'collection', 'created': '2018-08-17T18:32:48.793000+00:00', 'creatorId': '5956b83b92ca9a000d9c0488', 'description': '', 'folderId': '5b7714bee62914001abc1dc3', 'largeImage': {'fileId': '5b7714d0e62914001abc1dc6', 'sourceName': 'pil'}, 'lowerName': 'v0000001.bmp', 'name': 'v0000001.bmp', 'size': 1001078, 'updated': '2018-08-17T18:32:48.793000+00:00'}\n",
      "{'_id': '5b7714d1e62914001abc1dc8', 'baseParentId': '5b7714a9e62914001abc1dc1', 'baseParentType': 'collection', 'created': '2018-08-17T18:32:49.368000+00:00', 'creatorId': '5956b83b92ca9a000d9c0488', 'description': '', 'folderId': '5b7714bee62914001abc1dc3', 'largeImage': {'fileId': '5b7714d1e62914001abc1dc9', 'sourceName': 'pil'}, 'lowerName': 'v0000002.bmp', 'name': 'v0000002.bmp', 'size': 1001078, 'updated': '2018-08-17T18:32:49.368000+00:00'}\n",
      "{'_id': '5b7714d1e62914001abc1dcb', 'baseParentId': '5b7714a9e62914001abc1dc1', 'baseParentType': 'collection', 'created': '2018-08-17T18:32:49.899000+00:00', 'creatorId': '5956b83b92ca9a000d9c0488', 'description': '', 'folderId': '5b7714bee62914001abc1dc3', 'largeImage': {'fileId': '5b7714d1e62914001abc1dcc', 'sourceName': 'pil'}, 'lowerName': 'v0000003.bmp', 'name': 'v0000003.bmp', 'size': 1001078, 'updated': '2018-08-17T18:32:49.899000+00:00'}\n",
      "{'_id': '5b7714d2e62914001abc1dce', 'baseParentId': '5b7714a9e62914001abc1dc1', 'baseParentType': 'collection', 'created': '2018-08-17T18:32:50.425000+00:00', 'creatorId': '5956b83b92ca9a000d9c0488', 'description': '', 'folderId': '5b7714bee62914001abc1dc3', 'largeImage': {'fileId': '5b7714d2e62914001abc1dcf', 'sourceName': 'pil'}, 'lowerName': 'v0000004.bmp', 'name': 'v0000004.bmp', 'size': 1001078, 'updated': '2018-08-17T18:32:50.425000+00:00'}\n",
      "{'_id': '5b7714d3e62914001abc1dd1', 'baseParentId': '5b7714a9e62914001abc1dc1', 'baseParentType': 'collection', 'created': '2018-08-17T18:32:50.999000+00:00', 'creatorId': '5956b83b92ca9a000d9c0488', 'description': '', 'folderId': '5b7714bee62914001abc1dc3', 'largeImage': {'fileId': '5b7714d3e62914001abc1dd2', 'sourceName': 'pil'}, 'lowerName': 'v0000005.bmp', 'name': 'v0000005.bmp', 'size': 1001078, 'updated': '2018-08-17T18:32:50.999000+00:00'}\n",
      "{'_id': '5b7714d3e62914001abc1dd4', 'baseParentId': '5b7714a9e62914001abc1dc1', 'baseParentType': 'collection', 'created': '2018-08-17T18:32:51.601000+00:00', 'creatorId': '5956b83b92ca9a000d9c0488', 'description': '', 'folderId': '5b7714bee62914001abc1dc3', 'largeImage': {'fileId': '5b7714d3e62914001abc1dd5', 'sourceName': 'pil'}, 'lowerName': 'v0000006.bmp', 'name': 'v0000006.bmp', 'size': 1001078, 'updated': '2018-08-17T18:32:51.601000+00:00'}\n",
      "{'_id': '5b7714d4e62914001abc1dd7', 'baseParentId': '5b7714a9e62914001abc1dc1', 'baseParentType': 'collection', 'created': '2018-08-17T18:32:52.244000+00:00', 'creatorId': '5956b83b92ca9a000d9c0488', 'description': '', 'folderId': '5b7714bee62914001abc1dc3', 'largeImage': {'fileId': '5b7714d4e62914001abc1dd8', 'sourceName': 'pil'}, 'lowerName': 'v0000007.bmp', 'name': 'v0000007.bmp', 'size': 1001078, 'updated': '2018-08-17T18:32:52.244000+00:00'}\n",
      "{'_id': '5b7714d5e62914001abc1dda', 'baseParentId': '5b7714a9e62914001abc1dc1', 'baseParentType': 'collection', 'created': '2018-08-17T18:32:53.082000+00:00', 'creatorId': '5956b83b92ca9a000d9c0488', 'description': '', 'folderId': '5b7714bee62914001abc1dc3', 'largeImage': {'fileId': '5b7714d5e62914001abc1ddb', 'sourceName': 'pil'}, 'lowerName': 'v0000008.bmp', 'name': 'v0000008.bmp', 'size': 1001078, 'updated': '2018-08-17T18:32:53.082000+00:00'}\n",
      "{'_id': '5b7714d5e62914001abc1ddd', 'baseParentId': '5b7714a9e62914001abc1dc1', 'baseParentType': 'collection', 'created': '2018-08-17T18:32:53.876000+00:00', 'creatorId': '5956b83b92ca9a000d9c0488', 'description': '', 'folderId': '5b7714bee62914001abc1dc3', 'largeImage': {'fileId': '5b7714d5e62914001abc1dde', 'sourceName': 'pil'}, 'lowerName': 'v0000009.bmp', 'name': 'v0000009.bmp', 'size': 1001078, 'updated': '2018-08-17T18:32:53.876000+00:00'}\n",
      "{'_id': '5b7714d6e62914001abc1de0', 'baseParentId': '5b7714a9e62914001abc1dc1', 'baseParentType': 'collection', 'created': '2018-08-17T18:32:54.549000+00:00', 'creatorId': '5956b83b92ca9a000d9c0488', 'description': '', 'folderId': '5b7714bee62914001abc1dc3', 'largeImage': {'fileId': '5b7714d6e62914001abc1de1', 'sourceName': 'pil'}, 'lowerName': 'v0000010.bmp', 'name': 'v0000010.bmp', 'size': 1001078, 'updated': '2018-08-17T18:32:54.549000+00:00'}\n",
      "{'_id': '5b7714d7e62914001abc1de3', 'baseParentId': '5b7714a9e62914001abc1dc1', 'baseParentType': 'collection', 'created': '2018-08-17T18:32:55.161000+00:00', 'creatorId': '5956b83b92ca9a000d9c0488', 'description': '', 'folderId': '5b7714bee62914001abc1dc3', 'largeImage': {'fileId': '5b7714d7e62914001abc1de4', 'sourceName': 'pil'}, 'lowerName': 'v0000011.bmp', 'name': 'v0000011.bmp', 'size': 1001078, 'updated': '2018-08-17T18:32:55.161000+00:00'}\n",
      "{'_id': '5b7714d7e62914001abc1de6', 'baseParentId': '5b7714a9e62914001abc1dc1', 'baseParentType': 'collection', 'created': '2018-08-17T18:32:55.786000+00:00', 'creatorId': '5956b83b92ca9a000d9c0488', 'description': '', 'folderId': '5b7714bee62914001abc1dc3', 'largeImage': {'fileId': '5b7714d7e62914001abc1de7', 'sourceName': 'pil'}, 'lowerName': 'v0000012.bmp', 'name': 'v0000012.bmp', 'size': 1001078, 'updated': '2018-08-17T18:32:55.786000+00:00'}\n",
      "{'_id': '5b7714d8e62914001abc1de9', 'baseParentId': '5b7714a9e62914001abc1dc1', 'baseParentType': 'collection', 'created': '2018-08-17T18:32:56.402000+00:00', 'creatorId': '5956b83b92ca9a000d9c0488', 'description': '', 'folderId': '5b7714bee62914001abc1dc3', 'largeImage': {'fileId': '5b7714d8e62914001abc1dea', 'sourceName': 'pil'}, 'lowerName': 'v0000013.bmp', 'name': 'v0000013.bmp', 'size': 1001078, 'updated': '2018-08-17T18:32:56.402000+00:00'}\n",
      "{'_id': '5b7714d9e62914001abc1dec', 'baseParentId': '5b7714a9e62914001abc1dc1', 'baseParentType': 'collection', 'created': '2018-08-17T18:32:57.037000+00:00', 'creatorId': '5956b83b92ca9a000d9c0488', 'description': '', 'folderId': '5b7714bee62914001abc1dc3', 'largeImage': {'fileId': '5b7714d9e62914001abc1ded', 'sourceName': 'pil'}, 'lowerName': 'v0000014.bmp', 'name': 'v0000014.bmp', 'size': 1001078, 'updated': '2018-08-17T18:32:57.037000+00:00'}\n",
      "{'_id': '5b7714d9e62914001abc1def', 'baseParentId': '5b7714a9e62914001abc1dc1', 'baseParentType': 'collection', 'created': '2018-08-17T18:32:57.687000+00:00', 'creatorId': '5956b83b92ca9a000d9c0488', 'description': '', 'folderId': '5b7714bee62914001abc1dc3', 'largeImage': {'fileId': '5b7714d9e62914001abc1df0', 'sourceName': 'pil'}, 'lowerName': 'v0000015.bmp', 'name': 'v0000015.bmp', 'size': 1001078, 'updated': '2018-08-17T18:32:57.687000+00:00'}\n",
      "{'_id': '5b7714dae62914001abc1df2', 'baseParentId': '5b7714a9e62914001abc1dc1', 'baseParentType': 'collection', 'created': '2018-08-17T18:32:58.411000+00:00', 'creatorId': '5956b83b92ca9a000d9c0488', 'description': '', 'folderId': '5b7714bee62914001abc1dc3', 'largeImage': {'fileId': '5b7714dae62914001abc1df3', 'sourceName': 'pil'}, 'lowerName': 'v0000016.bmp', 'name': 'v0000016.bmp', 'size': 1001078, 'updated': '2018-08-17T18:32:58.411000+00:00'}\n",
      "{'_id': '5b7714dbe62914001abc1df5', 'baseParentId': '5b7714a9e62914001abc1dc1', 'baseParentType': 'collection', 'created': '2018-08-17T18:32:59.110000+00:00', 'creatorId': '5956b83b92ca9a000d9c0488', 'description': '', 'folderId': '5b7714bee62914001abc1dc3', 'largeImage': {'fileId': '5b7714dbe62914001abc1df6', 'sourceName': 'pil'}, 'lowerName': 'v0000017.bmp', 'name': 'v0000017.bmp', 'size': 1001078, 'updated': '2018-08-17T18:32:59.110000+00:00'}\n",
      "{'_id': '5b7714dbe62914001abc1df8', 'baseParentId': '5b7714a9e62914001abc1dc1', 'baseParentType': 'collection', 'created': '2018-08-17T18:32:59.755000+00:00', 'creatorId': '5956b83b92ca9a000d9c0488', 'description': '', 'folderId': '5b7714bee62914001abc1dc3', 'largeImage': {'fileId': '5b7714dbe62914001abc1df9', 'sourceName': 'pil'}, 'lowerName': 'v0000018.bmp', 'name': 'v0000018.bmp', 'size': 1001078, 'updated': '2018-08-17T18:32:59.755000+00:00'}\n",
      "{'_id': '5b7714dce62914001abc1dfb', 'baseParentId': '5b7714a9e62914001abc1dc1', 'baseParentType': 'collection', 'created': '2018-08-17T18:33:00.393000+00:00', 'creatorId': '5956b83b92ca9a000d9c0488', 'description': '', 'folderId': '5b7714bee62914001abc1dc3', 'largeImage': {'fileId': '5b7714dce62914001abc1dfc', 'sourceName': 'pil'}, 'lowerName': 'v0000019.bmp', 'name': 'v0000019.bmp', 'size': 1001078, 'updated': '2018-08-17T18:33:00.393000+00:00'}\n",
      "{'_id': '5b7714dde62914001abc1dfe', 'baseParentId': '5b7714a9e62914001abc1dc1', 'baseParentType': 'collection', 'created': '2018-08-17T18:33:01.044000+00:00', 'creatorId': '5956b83b92ca9a000d9c0488', 'description': '', 'folderId': '5b7714bee62914001abc1dc3', 'largeImage': {'fileId': '5b7714dde62914001abc1dff', 'sourceName': 'pil'}, 'lowerName': 'v0000020.bmp', 'name': 'v0000020.bmp', 'size': 1001078, 'updated': '2018-08-17T18:33:01.044000+00:00'}\n",
      "{'_id': '5b7714dde62914001abc1e01', 'baseParentId': '5b7714a9e62914001abc1dc1', 'baseParentType': 'collection', 'created': '2018-08-17T18:33:01.673000+00:00', 'creatorId': '5956b83b92ca9a000d9c0488', 'description': '', 'folderId': '5b7714bee62914001abc1dc3', 'largeImage': {'fileId': '5b7714dde62914001abc1e02', 'sourceName': 'pil'}, 'lowerName': 'v0000021.bmp', 'name': 'v0000021.bmp', 'size': 1001078, 'updated': '2018-08-17T18:33:01.673000+00:00'}\n",
      "{'_id': '5b7714dee62914001abc1e04', 'baseParentId': '5b7714a9e62914001abc1dc1', 'baseParentType': 'collection', 'created': '2018-08-17T18:33:02.301000+00:00', 'creatorId': '5956b83b92ca9a000d9c0488', 'description': '', 'folderId': '5b7714bee62914001abc1dc3', 'largeImage': {'fileId': '5b7714dee62914001abc1e05', 'sourceName': 'pil'}, 'lowerName': 'v0000022.bmp', 'name': 'v0000022.bmp', 'size': 1001078, 'updated': '2018-08-17T18:33:02.301000+00:00'}\n",
      "{'_id': '5b7714dee62914001abc1e07', 'baseParentId': '5b7714a9e62914001abc1dc1', 'baseParentType': 'collection', 'created': '2018-08-17T18:33:02.952000+00:00', 'creatorId': '5956b83b92ca9a000d9c0488', 'description': '', 'folderId': '5b7714bee62914001abc1dc3', 'largeImage': {'fileId': '5b7714dee62914001abc1e08', 'sourceName': 'pil'}, 'lowerName': 'v0000023.bmp', 'name': 'v0000023.bmp', 'size': 1001078, 'updated': '2018-08-17T18:33:02.952000+00:00'}\n",
      "{'_id': '5b7714dfe62914001abc1e0a', 'baseParentId': '5b7714a9e62914001abc1dc1', 'baseParentType': 'collection', 'created': '2018-08-17T18:33:03.758000+00:00', 'creatorId': '5956b83b92ca9a000d9c0488', 'description': '', 'folderId': '5b7714bee62914001abc1dc3', 'largeImage': {'fileId': '5b7714dfe62914001abc1e0b', 'sourceName': 'pil'}, 'lowerName': 'v0000024.bmp', 'name': 'v0000024.bmp', 'size': 1001078, 'updated': '2018-08-17T18:33:03.758000+00:00'}\n",
      "{'_id': '5b7714e0e62914001abc1e0d', 'baseParentId': '5b7714a9e62914001abc1dc1', 'baseParentType': 'collection', 'created': '2018-08-17T18:33:04.420000+00:00', 'creatorId': '5956b83b92ca9a000d9c0488', 'description': '', 'folderId': '5b7714bee62914001abc1dc3', 'largeImage': {'fileId': '5b7714e0e62914001abc1e0e', 'sourceName': 'pil'}, 'lowerName': 'v0000025.bmp', 'name': 'v0000025.bmp', 'size': 1001078, 'updated': '2018-08-17T18:33:04.420000+00:00'}\n",
      "{'_id': '5b7714e1e62914001abc1e10', 'baseParentId': '5b7714a9e62914001abc1dc1', 'baseParentType': 'collection', 'created': '2018-08-17T18:33:05.024000+00:00', 'creatorId': '5956b83b92ca9a000d9c0488', 'description': '', 'folderId': '5b7714bee62914001abc1dc3', 'largeImage': {'fileId': '5b7714e1e62914001abc1e11', 'sourceName': 'pil'}, 'lowerName': 'v0000026.bmp', 'name': 'v0000026.bmp', 'size': 1001078, 'updated': '2018-08-17T18:33:05.024000+00:00'}\n",
      "{'_id': '5b7714e1e62914001abc1e13', 'baseParentId': '5b7714a9e62914001abc1dc1', 'baseParentType': 'collection', 'created': '2018-08-17T18:33:05.630000+00:00', 'creatorId': '5956b83b92ca9a000d9c0488', 'description': '', 'folderId': '5b7714bee62914001abc1dc3', 'largeImage': {'fileId': '5b7714e1e62914001abc1e14', 'sourceName': 'pil'}, 'lowerName': 'v0000027.bmp', 'name': 'v0000027.bmp', 'size': 1001078, 'updated': '2018-08-17T18:33:05.630000+00:00'}\n",
      "{'_id': '5b7714e2e62914001abc1e16', 'baseParentId': '5b7714a9e62914001abc1dc1', 'baseParentType': 'collection', 'created': '2018-08-17T18:33:06.238000+00:00', 'creatorId': '5956b83b92ca9a000d9c0488', 'description': '', 'folderId': '5b7714bee62914001abc1dc3', 'largeImage': {'fileId': '5b7714e2e62914001abc1e17', 'sourceName': 'pil'}, 'lowerName': 'v0000028.bmp', 'name': 'v0000028.bmp', 'size': 1001078, 'updated': '2018-08-17T18:33:06.238000+00:00'}\n",
      "{'_id': '5b7714e2e62914001abc1e19', 'baseParentId': '5b7714a9e62914001abc1dc1', 'baseParentType': 'collection', 'created': '2018-08-17T18:33:06.848000+00:00', 'creatorId': '5956b83b92ca9a000d9c0488', 'description': '', 'folderId': '5b7714bee62914001abc1dc3', 'largeImage': {'fileId': '5b7714e2e62914001abc1e1a', 'sourceName': 'pil'}, 'lowerName': 'v0000029.bmp', 'name': 'v0000029.bmp', 'size': 1001078, 'updated': '2018-08-17T18:33:06.848000+00:00'}\n",
      "{'_id': '5b7714e3e62914001abc1e1c', 'baseParentId': '5b7714a9e62914001abc1dc1', 'baseParentType': 'collection', 'created': '2018-08-17T18:33:07.415000+00:00', 'creatorId': '5956b83b92ca9a000d9c0488', 'description': '', 'folderId': '5b7714bee62914001abc1dc3', 'largeImage': {'fileId': '5b7714e3e62914001abc1e1e', 'sourceName': 'pil'}, 'lowerName': 'v0000030.bmp', 'name': 'v0000030.bmp', 'size': 1001078, 'updated': '2018-08-17T18:33:07.415000+00:00'}\n",
      "{'_id': '5b7714e3e62914001abc1e20', 'baseParentId': '5b7714a9e62914001abc1dc1', 'baseParentType': 'collection', 'created': '2018-08-17T18:33:07.881000+00:00', 'creatorId': '5956b83b92ca9a000d9c0488', 'description': '', 'folderId': '5b7714bee62914001abc1dc3', 'largeImage': {'fileId': '5b7714e3e62914001abc1e21', 'sourceName': 'pil'}, 'lowerName': 'v0000031.bmp', 'name': 'v0000031.bmp', 'size': 1001078, 'updated': '2018-08-17T18:33:07.881000+00:00'}\n",
      "{'_id': '5b7714e4e62914001abc1e23', 'baseParentId': '5b7714a9e62914001abc1dc1', 'baseParentType': 'collection', 'created': '2018-08-17T18:33:08.422000+00:00', 'creatorId': '5956b83b92ca9a000d9c0488', 'description': '', 'folderId': '5b7714bee62914001abc1dc3', 'largeImage': {'fileId': '5b7714e4e62914001abc1e24', 'sourceName': 'pil'}, 'lowerName': 'v0000032.bmp', 'name': 'v0000032.bmp', 'size': 1001078, 'updated': '2018-08-17T18:33:08.422000+00:00'}\n",
      "{'_id': '5b7714e5e62914001abc1e26', 'baseParentId': '5b7714a9e62914001abc1dc1', 'baseParentType': 'collection', 'created': '2018-08-17T18:33:09.006000+00:00', 'creatorId': '5956b83b92ca9a000d9c0488', 'description': '', 'folderId': '5b7714bee62914001abc1dc3', 'largeImage': {'fileId': '5b7714e5e62914001abc1e27', 'sourceName': 'pil'}, 'lowerName': 'v0000033.bmp', 'name': 'v0000033.bmp', 'size': 1001078, 'updated': '2018-08-17T18:33:09.006000+00:00'}\n",
      "{'_id': '5b7714e5e62914001abc1e29', 'baseParentId': '5b7714a9e62914001abc1dc1', 'baseParentType': 'collection', 'created': '2018-08-17T18:33:09.472000+00:00', 'creatorId': '5956b83b92ca9a000d9c0488', 'description': '', 'folderId': '5b7714bee62914001abc1dc3', 'largeImage': {'fileId': '5b7714e5e62914001abc1e2a', 'sourceName': 'pil'}, 'lowerName': 'v0000034.bmp', 'name': 'v0000034.bmp', 'size': 1001078, 'updated': '2018-08-17T18:33:09.472000+00:00'}\n",
      "{'_id': '5b7714e5e62914001abc1e2c', 'baseParentId': '5b7714a9e62914001abc1dc1', 'baseParentType': 'collection', 'created': '2018-08-17T18:33:09.980000+00:00', 'creatorId': '5956b83b92ca9a000d9c0488', 'description': '', 'folderId': '5b7714bee62914001abc1dc3', 'largeImage': {'fileId': '5b7714e5e62914001abc1e2d', 'sourceName': 'pil'}, 'lowerName': 'v0000035.bmp', 'name': 'v0000035.bmp', 'size': 1001078, 'updated': '2018-08-17T18:33:09.980000+00:00'}\n",
      "{'_id': '5b7714e6e62914001abc1e2f', 'baseParentId': '5b7714a9e62914001abc1dc1', 'baseParentType': 'collection', 'created': '2018-08-17T18:33:10.407000+00:00', 'creatorId': '5956b83b92ca9a000d9c0488', 'description': '', 'folderId': '5b7714bee62914001abc1dc3', 'largeImage': {'fileId': '5b7714e6e62914001abc1e30', 'sourceName': 'pil'}, 'lowerName': 'v0000036.bmp', 'name': 'v0000036.bmp', 'size': 1001078, 'updated': '2018-08-17T18:33:10.407000+00:00'}\n",
      "{'_id': '5b7714e6e62914001abc1e32', 'baseParentId': '5b7714a9e62914001abc1dc1', 'baseParentType': 'collection', 'created': '2018-08-17T18:33:10.818000+00:00', 'creatorId': '5956b83b92ca9a000d9c0488', 'description': '', 'folderId': '5b7714bee62914001abc1dc3', 'largeImage': {'fileId': '5b7714e6e62914001abc1e33', 'sourceName': 'pil'}, 'lowerName': 'v0000037.bmp', 'name': 'v0000037.bmp', 'size': 1001078, 'updated': '2018-08-17T18:33:10.818000+00:00'}\n",
      "{'_id': '5b7714e7e62914001abc1e35', 'baseParentId': '5b7714a9e62914001abc1dc1', 'baseParentType': 'collection', 'created': '2018-08-17T18:33:11.256000+00:00', 'creatorId': '5956b83b92ca9a000d9c0488', 'description': '', 'folderId': '5b7714bee62914001abc1dc3', 'largeImage': {'fileId': '5b7714e7e62914001abc1e36', 'sourceName': 'pil'}, 'lowerName': 'v0000038.bmp', 'name': 'v0000038.bmp', 'size': 1001078, 'updated': '2018-08-17T18:33:11.256000+00:00'}\n",
      "{'_id': '5b7714e7e62914001abc1e38', 'baseParentId': '5b7714a9e62914001abc1dc1', 'baseParentType': 'collection', 'created': '2018-08-17T18:33:11.785000+00:00', 'creatorId': '5956b83b92ca9a000d9c0488', 'description': '', 'folderId': '5b7714bee62914001abc1dc3', 'largeImage': {'fileId': '5b7714e7e62914001abc1e39', 'sourceName': 'pil'}, 'lowerName': 'v0000039.bmp', 'name': 'v0000039.bmp', 'size': 1001078, 'updated': '2018-08-17T18:33:11.785000+00:00'}\n",
      "{'_id': '5b7714e8e62914001abc1e3b', 'baseParentId': '5b7714a9e62914001abc1dc1', 'baseParentType': 'collection', 'created': '2018-08-17T18:33:12.230000+00:00', 'creatorId': '5956b83b92ca9a000d9c0488', 'description': '', 'folderId': '5b7714bee62914001abc1dc3', 'largeImage': {'fileId': '5b7714e8e62914001abc1e3c', 'sourceName': 'pil'}, 'lowerName': 'v0000040.bmp', 'name': 'v0000040.bmp', 'size': 1001078, 'updated': '2018-08-17T18:33:12.230000+00:00'}\n"
     ]
    }
   ],
   "source": [
    "adultItemList = gc.get('resource/%s/items?type=folder&limit=1000' % adultFolder)\n",
    "    \n",
    "for a in adultItemList:\n",
    "    print(a)"
   ]
  }
 ],
 "metadata": {
  "kernelspec": {
   "display_name": "Python [conda root]",
   "language": "python",
   "name": "conda-root-py"
  },
  "language_info": {
   "codemirror_mode": {
    "name": "ipython",
    "version": 3
   },
   "file_extension": ".py",
   "mimetype": "text/x-python",
   "name": "python",
   "nbconvert_exporter": "python",
   "pygments_lexer": "ipython3",
   "version": "3.6.3"
  }
 },
 "nbformat": 4,
 "nbformat_minor": 2
}
