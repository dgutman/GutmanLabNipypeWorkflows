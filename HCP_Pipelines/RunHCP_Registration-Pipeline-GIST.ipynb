{
 "cells": [
  {
   "cell_type": "code",
   "execution_count": null,
   "metadata": {},
   "outputs": [],
   "source": [
    "import nipype\n",
    "import os,glob,sys,shutil\n",
    "sys.path.append(\"/usr/lib/ants/\")\n",
    "import nipype.interfaces.fsl as fsl\n",
    "import nipype.pipeline.engine as pe\n",
    "import nipype.interfaces.utility as util\n",
    "import nipype.interfaces.io as nio\n",
    "import nipype.interfaces.ants as ants\n",
    "from nipype.interfaces.ants import Registration, RegistrationSynQuick,WarpImageMultiTransform\n",
    "from nipype.interfaces.fsl import Info\n",
    "from nipype import config\n",
    "\n",
    "from os.path import join as opj\n",
    "MNI_template = Info.standard_image('MNI152_T1_1mm_brain.nii.gz')\n",
    "from nipype import config\n",
    "\n",
    "regScratchDir = \"/data/NipypeScratch/\""
   ]
  },
  {
   "cell_type": "code",
   "execution_count": null,
   "metadata": {},
   "outputs": [],
   "source": [
    "# \"\"\"\n",
    "# Setup for DataGrabber inputs needed for the registration pipeline; This is using the freesurfer nodif and t1 masks\n",
    "# \"\"\"\n",
    "ds = nio.DataGrabber(infields=['subject_id'],\n",
    "    outfields=['nodif_brain','nodif_brain_mask','struct','struct_mask','struct_brain'])\n",
    "\n",
    "datasource = pe.Node(interface=ds,name=\"datasource\")\n",
    "# create a node to obtain the functional images\n",
    "datasource.inputs.base_directory = \"/data/HCP_BedpostData/\"\n",
    "datasource.inputs.template ='*'\n",
    "datasource.inputs.sort_filelist = True\n",
    "datasource.inputs.field_template = dict(\n",
    "    nodif_brain='%s/T1w/Diffusion/nodif_brain.nii*',\n",
    "    nodif_brain_mask='%s/T1w/Diffusion/nodif_brain_mask.nii*',\n",
    "    struct='%s/T1w/T1w_acpc_dc.nii*',\n",
    "    struct_mask='%s/T1w/brainmask_fs.nii*', \n",
    "    struct_brain='%s/T1w/T1w_acpc_dc_masked.nii*'\n",
    ")\n",
    "datasource.inputs.template_args = dict(\n",
    "             nodif_brain = [['subject_id']],\n",
    "             nodif_brain_mask =  [['subject_id']],\n",
    "             struct =  [['subject_id']],\n",
    "             struct_mask = [['subject_id']],\n",
    "             struct_brain = [['subject_id']] )"
   ]
  },
  {
   "cell_type": "code",
   "execution_count": null,
   "metadata": {},
   "outputs": [],
   "source": [
    "subjRootDir = \"/data/HCP_BedpostData/\"\n",
    "FULL_SUBJECT_LIST = [x for x in os.listdir(subjRootDir) if os.path.isdir( subjRootDir+x+'/T1w/Diffusion.bedpostX')]\n",
    "print(len(FULL_SUBJECT_LIST),\"Subjects are potentially available to be processed!\")"
   ]
  },
  {
   "cell_type": "code",
   "execution_count": null,
   "metadata": {},
   "outputs": [],
   "source": [
    "\"\"\"\n",
    "Setup for Registration  Pipeline InfoSource i.e. subjects\n",
    "\"\"\"\n",
    "subj_infosource = pe.Node(interface=util.IdentityInterface(fields=['subject_id']),  name=\"subj_infosource\")\n",
    "#infosource.iterables = ('subject_id', SampleSubjList)\n",
    "subj_infosource.iterables = ('subject_id', FULL_SUBJECT_LIST)\n",
    "### Above just converts the list of subjects into an iterable list I can connect to the next part of the pipeline"
   ]
  },
  {
   "cell_type": "code",
   "execution_count": null,
   "metadata": {},
   "outputs": [],
   "source": [
    "##Register one or more ROI's in MNI space to the DTI space \n",
    "\n",
    "roiList = [\"/data/HCP_Data/MNI_ROI/Hippocampus_Left.nii.gz\"]\n",
    "\n",
    "#### RIGID BODY REGISTRATION OF DTI -- >  Struct Brain    using RegSynQuick\n",
    "reg_DTI_to_Struct = pe.Node( RegistrationSynQuick(\n",
    "                             num_threads=3,\n",
    "                             transform_type='r',output_prefix=\"dtiToStruct\"),\n",
    "                             name='reg_DTI_to_Struct')\n",
    "\n",
    "reg_Struct_to_MNI = pe.Node( RegistrationSynQuick(\n",
    "                             num_threads=6, fixed_image=MNI_template,output_prefix=\"structToMNI\"),\n",
    "                             name='reg_Struct_to_MNI')\n",
    "\n",
    "warp_ROIs_MNI_to_DTI = pe.Node( WarpImageMultiTransform(invert_affine = [1,2],\n",
    "                                    use_nearest=True,\n",
    "                                    ), iterfield=['input_image'], name=\"warp_ROIs_MNI_to_DTI\")\n",
    "\n",
    "warp_ROIs_MNI_to_DTI.iterables = ('input_image', roiList)\n",
    "\n",
    "merge_xfms = pe.Node(util.Merge(3), name='merge_xfms')"
   ]
  },
  {
   "cell_type": "code",
   "execution_count": null,
   "metadata": {},
   "outputs": [],
   "source": [
    "run_hcp_reg  = pe.Workflow(name=\"run_hcp_reg_pipeline_redo\")\n",
    "run_hcp_reg.base_dir = regScratchDir\n",
    "\n",
    "### Conneccts list ofls -al subjects to the data source generator\n",
    "run_hcp_reg.connect(subj_infosource,'subject_id',datasource,'subject_id')\n",
    "\n",
    "## Connect inputs for registering the DTI to Structural Image (Rigid Registration)\n",
    "run_hcp_reg.connect( datasource,'struct_brain',reg_DTI_to_Struct,'fixed_image')\n",
    "run_hcp_reg.connect( datasource,'nodif_brain',reg_DTI_to_Struct,'moving_image')\n",
    "\n",
    "## Connect the inputs for registering Structural to MNI 1mm template-- template is specified in fxn\n",
    "run_hcp_reg.connect( datasource,'struct_brain',reg_Struct_to_MNI,'moving_image')\n",
    "\n",
    "run_hcp_reg.connect( reg_Struct_to_MNI, \"inverse_warp_field\", merge_xfms, \"in1\"    )\n",
    "run_hcp_reg.connect( reg_Struct_to_MNI, \"out_matrix\",merge_xfms, \"in2\"   )\n",
    "\n",
    "run_hcp_reg.connect( reg_DTI_to_Struct, \"out_matrix\",merge_xfms, \"in3\"   )\n",
    "## So order of matrices being applied is inverse warp field(S->M), affine (S-M) Inverted, then Affine(DTI->S) Inverted\n",
    "\n",
    "run_hcp_reg.connect( merge_xfms,  'out', warp_ROIs_MNI_to_DTI, 'transformation_series')\n",
    "run_hcp_reg.connect( datasource, 'nodif_brain', warp_ROIs_MNI_to_DTI, 'reference_image')\n",
    "\n",
    "#run_hcp_reg.write_graph()\n",
    "run_hcp_reg.run()"
   ]
  }
 ],
 "metadata": {
  "kernelspec": {
   "display_name": "Python [conda root]",
   "language": "python",
   "name": "conda-root-py"
  },
  "language_info": {
   "codemirror_mode": {
    "name": "ipython",
    "version": 3
   },
   "file_extension": ".py",
   "mimetype": "text/x-python",
   "name": "python",
   "nbconvert_exporter": "python",
   "pygments_lexer": "ipython3",
   "version": "3.6.3"
  }
 },
 "nbformat": 4,
 "nbformat_minor": 2
}
