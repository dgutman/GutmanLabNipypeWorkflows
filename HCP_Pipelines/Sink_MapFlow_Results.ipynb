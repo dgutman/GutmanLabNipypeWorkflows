{
 "cells": [
  {
   "cell_type": "code",
   "execution_count": 32,
   "metadata": {},
   "outputs": [],
   "source": [
    "## I generated a mapnode to run tractography on multiple ROI's in a single node\n",
    "## I think it's going to be easier to just look at the output and copy the results myself\n",
    "## vs trying to do this in a datasink node...\n",
    "\n",
    "import glob, os, sys, shutil\n",
    "from  os.path import join as opj\n",
    "\n",
    "nipype_results_dir = '/data/NipypeScratch/DOG_PROJ_WORKING_DATA/'\n",
    "tractographyResultsData = \"_subject_id_%s/pbx2/mapflow/\"\n",
    "\n",
    "subjList = [x.replace('_subject_id_','') for x in os.listdir(nipype_results_dir) if '_subject_id' in x]"
   ]
  },
  {
   "cell_type": "code",
   "execution_count": 33,
   "metadata": {},
   "outputs": [
    {
     "name": "stdout",
     "output_type": "stream",
     "text": [
      "711 Subject Directories located\n"
     ]
    }
   ],
   "source": [
    "print(len(subjList),\"Subject Directories located\")"
   ]
  },
  {
   "cell_type": "code",
   "execution_count": 34,
   "metadata": {},
   "outputs": [
    {
     "name": "stdout",
     "output_type": "stream",
     "text": [
      "Missing data for 196144\n",
      "Missing data for 198350\n",
      "Missing data for 199453\n",
      "Missing data for 212419\n",
      "Missing data for 199655\n",
      "Missing data for 196346\n",
      "Missing data for 199150\n",
      "Missing data for 195647\n",
      "Missing data for 198855\n",
      "Missing data for 197348\n",
      "Missing data for 197651\n",
      "Missing data for 994273\n",
      "Missing data for 199251\n",
      "Missing data for 195849\n",
      "Missing data for 195950\n"
     ]
    }
   ],
   "source": [
    "import re\n",
    "import shutil\n",
    "\n",
    "for s in subjList:\n",
    "    \n",
    "    try:\n",
    "        mapResultDirs = os.listdir(opj(nipype_results_dir,tractographyResultsData%s))\n",
    "    except:\n",
    "        print(\"Missing data for %s\" % s)\n",
    "        next\n",
    "    \n",
    "    ### Now loop through the mapNode results\n",
    "    ## I am looking for the fdt_paths.nii.gz and command.txt\n",
    "    for mr in mapResultDirs:\n",
    "        fdt_paths = opj(nipype_results_dir,tractographyResultsData%s,mr,'fdt_paths.nii.gz')\n",
    "        command = opj(nipype_results_dir,tractographyResultsData%s,mr,'command.txt')\n",
    "        \n",
    "        #print(fdt_paths)\n",
    "        if os.path.isfile(fdt_paths) and os.path.isfile(command):\n",
    "            with open(command,'r') as fp:\n",
    "                line = fp.readline()\n",
    "                m  = re.search('seed=/data/.*/DTI_ROIs\\/(?P<seedMask>.*)_wimt.nii.gz',line)\n",
    "                if m:\n",
    "#                    print(m.groups())\n",
    "                \n",
    "                    fdtTgtDirName = opj('/data/HCP_BedpostData/addlInfo/subjContainer/',s,'pbxResults','DTI')\n",
    "                    if not os.path.isdir(fdtTgtDirName):\n",
    "                        os.makedirs(fdtTgtDirName)\n",
    "                    \n",
    "                    fdtTgtFile = opj(fdtTgtDirName,m.groups()[0]+'_fdt_paths.nii.gz')\n",
    "                    if not os.path.isfile(fdtTgtFile):\n",
    "                        shutil.copy(fdt_paths,fdtTgtFile)\n",
    "#                     print(fdtTgtDirName,fdtTgtFile)\n",
    "#                     print(fdt_paths,fdtTgtFile)\n",
    "#                     sys.exit()\n",
    "#    print(s,mapResultDirs)\n",
    "#    break\n",
    "\n",
    "\n"
   ]
  }
 ],
 "metadata": {
  "kernelspec": {
   "display_name": "Python [conda root]",
   "language": "python",
   "name": "conda-root-py"
  },
  "language_info": {
   "codemirror_mode": {
    "name": "ipython",
    "version": 3
   },
   "file_extension": ".py",
   "mimetype": "text/x-python",
   "name": "python",
   "nbconvert_exporter": "python",
   "pygments_lexer": "ipython3",
   "version": "3.6.3"
  }
 },
 "nbformat": 4,
 "nbformat_minor": 2
}
