{
 "cells": [
  {
   "cell_type": "code",
   "execution_count": 1,
   "metadata": {},
   "outputs": [],
   "source": [
    "## I generated a mapnode to run tractography on multiple ROI's in a single node\n",
    "## I think it's going to be easier to just look at the output and copy the results myself\n",
    "## vs trying to do this in a datasink node...\n",
    "import glob, os, sys, shutil\n",
    "from  os.path import join as opj\n",
    "\n",
    "nipype_results_dir = '/data/NipypeScratch/runpbx2_gpu_dtispace_fixedwarps/'\n",
    "tractographyResultsData = \"_subject_id_%s/pbx2/mapflow/\"\n",
    "\n",
    "subjList = [x.replace('_subject_id_','') for x in os.listdir(nipype_results_dir) if '_subject_id' in x]"
   ]
  },
  {
   "cell_type": "code",
   "execution_count": 2,
   "metadata": {},
   "outputs": [
    {
     "name": "stdout",
     "output_type": "stream",
     "text": [
      "(194, 'Subject Directories located')\n"
     ]
    }
   ],
   "source": [
    "print(len(subjList),\"Subject Directories located\")"
   ]
  },
  {
   "cell_type": "code",
   "execution_count": 4,
   "metadata": {},
   "outputs": [
    {
     "name": "stdout",
     "output_type": "stream",
     "text": [
      "Missing data for 196144\n",
      "Missing data for 198855\n",
      "Missing data for 199150\n"
     ]
    }
   ],
   "source": [
    "import re\n",
    "import shutil\n",
    "\n",
    "for s in subjList:\n",
    "    try:\n",
    "        mapResultDirs = os.listdir(opj(nipype_results_dir,tractographyResultsData%s))\n",
    "    except:\n",
    "        print(\"Missing data for %s\" % s)\n",
    "        next\n",
    "    \n",
    "    ### Now loop through the mapNode results\n",
    "    ## I am looking for the fdt_paths.nii.gz and command.txt\n",
    "    for mr in mapResultDirs:\n",
    "        fdt_paths = opj(nipype_results_dir,tractographyResultsData%s,mr,'fdt_paths.nii.gz')\n",
    "        command = opj(nipype_results_dir,tractographyResultsData%s,mr,'command.txt')\n",
    "        waytotal = opj(nipype_results_dir,tractographyResultsData%s,mr,'waytotal')\n",
    "        \n",
    "        \n",
    "        ## tpreviously it was _wimt it is now _trans when I am running hthis pipeline\n",
    "        #print(fdt_paths)\n",
    "        if os.path.isfile(fdt_paths) and os.path.isfile(command) and os.path.isfile(waytotal):\n",
    "            with open(command,'r') as fp:\n",
    "                line = fp.readline()\n",
    "                m  = re.search('seed=/data/.*/DTI_ROIs\\/(?P<seedMask>.*)_trans.nii.gz',line)\n",
    "                if m:\n",
    "                    fdtTgtDirName = opj('/data/HCP_BedpostData/addlInfoV2/subject/',s,'pbxResults','DTI')\n",
    "                    if not os.path.isdir(fdtTgtDirName):\n",
    "                        os.makedirs(fdtTgtDirName)\n",
    "                    \n",
    "                    fdtTgtFile = opj(fdtTgtDirName,m.groups()[0]+'_fdt_paths.nii.gz')\n",
    "                    if not os.path.isfile(fdtTgtFile):\n",
    "                        shutil.copy(fdt_paths,fdtTgtFile)\n",
    "                        \n",
    "                    fdtWayTotalFile = opj(fdtTgtDirName,m.groups()[0]+'_waytotal')\n",
    "                    if not os.path.isfile(fdtWayTotalFile):\n",
    "                        shutil.copy(waytotal,fdtWayTotalFile)   "
   ]
  },
  {
   "cell_type": "code",
   "execution_count": null,
   "metadata": {},
   "outputs": [],
   "source": []
  }
 ],
 "metadata": {
  "kernelspec": {
   "display_name": "Python 2",
   "language": "python",
   "name": "python2"
  },
  "language_info": {
   "codemirror_mode": {
    "name": "ipython",
    "version": 2
   },
   "file_extension": ".py",
   "mimetype": "text/x-python",
   "name": "python",
   "nbconvert_exporter": "python",
   "pygments_lexer": "ipython2",
   "version": "2.7.12"
  }
 },
 "nbformat": 4,
 "nbformat_minor": 2
}
